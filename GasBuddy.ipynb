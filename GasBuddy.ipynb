{
 "cells": [
  {
   "cell_type": "code",
   "execution_count": 1,
   "metadata": {},
   "outputs": [
    {
     "data": {
      "text/html": [
       "<style>.container { width:100% !important; }</style>"
      ],
      "text/plain": [
       "<IPython.core.display.HTML object>"
      ]
     },
     "metadata": {},
     "output_type": "display_data"
    },
    {
     "data": {
      "text/html": [
       "<style>div.output_area{max-height:10000px;overflow:scroll;}</style>"
      ],
      "text/plain": [
       "<IPython.core.display.HTML object>"
      ]
     },
     "metadata": {},
     "output_type": "display_data"
    },
    {
     "name": "stdout",
     "output_type": "stream",
     "text": [
      "Python: 3.6.5 |Anaconda custom (x86_64)| (default, Apr 26 2018, 08:42:37) \n",
      "[GCC 4.2.1 Compatible Clang 4.0.1 (tags/RELEASE_401/final)]\n",
      "Notebook Last Run Initiated: 2018-12-14 11:43:53.661628\n"
     ]
    }
   ],
   "source": [
    "## Basic stuff\n",
    "#%load_ext autoreload\n",
    "#%autoreload\n",
    "from IPython.core.display import display, HTML\n",
    "display(HTML(\"<style>.container { width:100% !important; }</style>\"))\n",
    "display(HTML(\"\"\"<style>div.output_area{max-height:10000px;overflow:scroll;}</style>\"\"\"))\n",
    "\n",
    "\n",
    "## Python Version\n",
    "import sys\n",
    "print(\"Python: {0}\".format(sys.version))\n",
    "\n",
    "\n",
    "## Install\n",
    "import shapefile\n",
    "import geohash\n",
    "from timeUtils import clock, elapsed\n",
    "from shapely.geometry.polygon import Polygon\n",
    "from shapely.geometry import Point\n",
    "from random import uniform\n",
    "from fsUtils import isFile\n",
    "from ioUtils import showSize, saveJoblib, loadJoblib\n",
    "from webUtils import getWebData, getHTML, removeTag\n",
    "from geoUtils import *\n",
    "from geospatialUtils import saveGeoData, getBB, rmZipDir, getGeos\n",
    "import pickle\n",
    "from glob import glob\n",
    "import geopy\n",
    "import requests\n",
    "from os.path import basename,splitext,join\n",
    "from collections import Counter\n",
    "\n",
    "import datetime as dt\n",
    "start = dt.datetime.now()\n",
    "print(\"Notebook Last Run Initiated: \"+str(start))"
   ]
  },
  {
   "cell_type": "code",
   "execution_count": 5,
   "metadata": {},
   "outputs": [],
   "source": [
    "prec = 7\n",
    "size = 50 # meters\n",
    "basedir = \"/Users/tgadf/Downloads/gasbuddy/\"\n",
    "\n",
    "# http://gas-stations.citgo.com/tn/knoxville"
   ]
  },
  {
   "cell_type": "code",
   "execution_count": 3,
   "metadata": {},
   "outputs": [
    {
     "name": "stdout",
     "output_type": "stream",
     "text": [
      "Current Time is Fri Dec 14, 2018 11:44:23 for Last Run\n"
     ]
    }
   ],
   "source": [
    "states={}\n",
    "states[\"AL\"] = \"Alabama\"\n",
    "states[\"AK\"] = \"Alaska\"\n",
    "states[\"AZ\"] = \"Arizona\"\n",
    "states[\"AR\"] = \"Arkansas\"\n",
    "states[\"CA\"] = \"California\"\n",
    "states[\"CO\"] = \"Colorado\"\n",
    "states[\"CT\"] = \"Connecticut\"\n",
    "states[\"DE\"] = \"Delaware\"\n",
    "states[\"DC\"] = \"District of Columbia\"\n",
    "states[\"FL\"] = \"Florida\"\n",
    "states[\"GA\"] = \"Georgia\"\n",
    "states[\"ID\"] = \"Idaho\"\n",
    "states[\"IL\"] = \"Illinois\"\n",
    "states[\"IN\"] = \"Indiana\"\n",
    "states[\"IA\"] = \"Iowa\"\n",
    "states[\"KS\"] = \"Kansas\"\n",
    "states[\"KY\"] = \"Kentucky\"\n",
    "states[\"LA\"] = \"Louisiana\"\n",
    "states[\"ME\"] = \"Maine\"\n",
    "states[\"MD\"] = \"Maryland\"\n",
    "states[\"MA\"] = \"Massachusetts\"\n",
    "states[\"MI\"] = \"Michigan\"\n",
    "states[\"MN\"] = \"Minnesota\"\n",
    "states[\"MS\"] = \"Mississippi\"\n",
    "states[\"MO\"] = \"Missouri\"\n",
    "states[\"MT\"] = \"Montana\"\n",
    "states[\"NE\"] = \"Nebraska\"\n",
    "states[\"NV\"] = \"Nevada\"\n",
    "states[\"NH\"] = \"New Hampshire\"\n",
    "states[\"NJ\"] = \"New Jersey\"\n",
    "states[\"NM\"] = \"New Mexico\"\n",
    "states[\"NY\"] = \"New York\"\n",
    "states[\"NC\"] = \"North Carolina\"\n",
    "states[\"ND\"] = \"North Dakota\"\n",
    "states[\"OH\"] = \"Ohio\"\n",
    "states[\"OK\"] = \"Oklahoma\"\n",
    "states[\"OR\"] = \"Oregon\"\n",
    "states[\"PA\"] = \"Pennsylvania\"\n",
    "states[\"RI\"] = \"Rhode Island\"\n",
    "states[\"SC\"] = \"South Carolina\"\n",
    "states[\"SD\"] = \"South Dakota\"\n",
    "states[\"TN\"] = \"Tennessee\"\n",
    "states[\"TX\"] = \"Texas\"\n",
    "states[\"UT\"] = \"Utah\"\n",
    "states[\"VT\"] = \"Vermont\"\n",
    "states[\"VA\"] = \"Virginia\"\n",
    "states[\"WA\"] = \"Washington\"\n",
    "states[\"WV\"] = \"West Virginia\"\n",
    "states[\"WI\"] = \"Wisconsin\"\n",
    "states[\"WY\"] = \"Wyoming\"\n",
    "\n",
    "states = {}\n",
    "states[\"OR\"] = \"Oregon\"\n",
    "\n",
    "_, _ = clock(\"Last Run\")"
   ]
  },
  {
   "cell_type": "code",
   "execution_count": 8,
   "metadata": {},
   "outputs": [
    {
     "name": "stdout",
     "output_type": "stream",
     "text": [
      "YO\n"
     ]
    },
    {
     "ename": "TypeError",
     "evalue": "memoryview: a bytes-like object is required, not 'str'",
     "output_type": "error",
     "traceback": [
      "\u001b[0;31m---------------------------------------------------------------------------\u001b[0m",
      "\u001b[0;31mTypeError\u001b[0m                                 Traceback (most recent call last)",
      "\u001b[0;32m<ipython-input-8-69ecd112bf89>\u001b[0m in \u001b[0;36m<module>\u001b[0;34m()\u001b[0m\n\u001b[1;32m      5\u001b[0m     \u001b[0;32mif\u001b[0m \u001b[0;32mnot\u001b[0m \u001b[0misFile\u001b[0m\u001b[0;34m(\u001b[0m\u001b[0msavename\u001b[0m\u001b[0;34m)\u001b[0m\u001b[0;34m:\u001b[0m\u001b[0;34m\u001b[0m\u001b[0m\n\u001b[1;32m      6\u001b[0m         \u001b[0mprint\u001b[0m\u001b[0;34m(\u001b[0m\u001b[0;34m\"YO\"\u001b[0m\u001b[0;34m)\u001b[0m\u001b[0;34m\u001b[0m\u001b[0m\n\u001b[0;32m----> 7\u001b[0;31m         \u001b[0mgetWebData\u001b[0m\u001b[0;34m(\u001b[0m\u001b[0mbase\u001b[0m\u001b[0;34m=\u001b[0m\u001b[0murl\u001b[0m\u001b[0;34m,\u001b[0m \u001b[0msuburl\u001b[0m\u001b[0;34m=\u001b[0m\u001b[0;32mNone\u001b[0m\u001b[0;34m,\u001b[0m \u001b[0mdtime\u001b[0m\u001b[0;34m=\u001b[0m\u001b[0;36m5\u001b[0m\u001b[0;34m,\u001b[0m \u001b[0museSafari\u001b[0m\u001b[0;34m=\u001b[0m\u001b[0;32mTrue\u001b[0m\u001b[0;34m,\u001b[0m \u001b[0msavename\u001b[0m\u001b[0;34m=\u001b[0m\u001b[0msavename\u001b[0m\u001b[0;34m)\u001b[0m\u001b[0;34m\u001b[0m\u001b[0m\n\u001b[0m",
      "\u001b[0;32m/anaconda3/envs/census/lib/python3.6/site-packages/utils-0.0.1-py3.6.egg/webUtils.py\u001b[0m in \u001b[0;36mgetWebData\u001b[0;34m(base, suburl, extra, savename, dtime, useSafari, debug)\u001b[0m\n\u001b[1;32m    107\u001b[0m \u001b[0;34m\u001b[0m\u001b[0m\n\u001b[1;32m    108\u001b[0m     \u001b[0;32mif\u001b[0m \u001b[0museSafari\u001b[0m\u001b[0;34m:\u001b[0m\u001b[0;34m\u001b[0m\u001b[0m\n\u001b[0;32m--> 109\u001b[0;31m         \u001b[0mretval\u001b[0m \u001b[0;34m=\u001b[0m \u001b[0mgetSafariURL\u001b[0m\u001b[0;34m(\u001b[0m\u001b[0murl\u001b[0m\u001b[0;34m,\u001b[0m \u001b[0msavename\u001b[0m\u001b[0;34m,\u001b[0m \u001b[0mdtime\u001b[0m\u001b[0;34m,\u001b[0m \u001b[0mdebug\u001b[0m\u001b[0;34m)\u001b[0m\u001b[0;34m\u001b[0m\u001b[0m\n\u001b[0m\u001b[1;32m    110\u001b[0m     \u001b[0;32melse\u001b[0m\u001b[0;34m:\u001b[0m\u001b[0;34m\u001b[0m\u001b[0m\n\u001b[1;32m    111\u001b[0m         \u001b[0mretval\u001b[0m \u001b[0;34m=\u001b[0m \u001b[0mgetURL\u001b[0m\u001b[0;34m(\u001b[0m\u001b[0murl\u001b[0m\u001b[0;34m,\u001b[0m \u001b[0msavename\u001b[0m\u001b[0;34m,\u001b[0m \u001b[0mdebug\u001b[0m\u001b[0;34m)\u001b[0m\u001b[0;34m\u001b[0m\u001b[0m\n",
      "\u001b[0;32m/anaconda3/envs/census/lib/python3.6/site-packages/utils-0.0.1-py3.6.egg/webUtils.py\u001b[0m in \u001b[0;36mgetSafariURL\u001b[0;34m(url, savename, dtime, debug)\u001b[0m\n\u001b[1;32m     71\u001b[0m         '''.format(url, savename, dtime)\n\u001b[1;32m     72\u001b[0m \u001b[0;34m\u001b[0m\u001b[0m\n\u001b[0;32m---> 73\u001b[0;31m     \u001b[0mcontent\u001b[0m \u001b[0;34m=\u001b[0m \u001b[0masrun\u001b[0m\u001b[0;34m(\u001b[0m\u001b[0mdscript\u001b[0m\u001b[0;34m)\u001b[0m\u001b[0;34m\u001b[0m\u001b[0m\n\u001b[0m\u001b[1;32m     74\u001b[0m     \u001b[0msaveJoblib\u001b[0m\u001b[0;34m(\u001b[0m\u001b[0mcontent\u001b[0m\u001b[0;34m,\u001b[0m \u001b[0msavename\u001b[0m\u001b[0;34m)\u001b[0m\u001b[0;34m\u001b[0m\u001b[0m\n\u001b[1;32m     75\u001b[0m     \u001b[0msize\u001b[0m \u001b[0;34m=\u001b[0m \u001b[0mround\u001b[0m\u001b[0;34m(\u001b[0m\u001b[0mgetsize\u001b[0m\u001b[0;34m(\u001b[0m\u001b[0msavename\u001b[0m\u001b[0;34m)\u001b[0m\u001b[0;34m/\u001b[0m\u001b[0;36m1e3\u001b[0m\u001b[0;34m)\u001b[0m\u001b[0;34m\u001b[0m\u001b[0m\n",
      "\u001b[0;32m/anaconda3/envs/census/lib/python3.6/site-packages/utils-0.0.1-py3.6.egg/webUtils.py\u001b[0m in \u001b[0;36masrun\u001b[0;34m(ascript)\u001b[0m\n\u001b[1;32m     43\u001b[0m                            stdout=subprocess.PIPE)\n\u001b[1;32m     44\u001b[0m \u001b[0;34m\u001b[0m\u001b[0m\n\u001b[0;32m---> 45\u001b[0;31m     \u001b[0;32mreturn\u001b[0m \u001b[0mosa\u001b[0m\u001b[0;34m.\u001b[0m\u001b[0mcommunicate\u001b[0m\u001b[0;34m(\u001b[0m\u001b[0mascript\u001b[0m\u001b[0;34m)\u001b[0m\u001b[0;34m[\u001b[0m\u001b[0;36m0\u001b[0m\u001b[0;34m]\u001b[0m\u001b[0;34m\u001b[0m\u001b[0m\n\u001b[0m\u001b[1;32m     46\u001b[0m \u001b[0;34m\u001b[0m\u001b[0m\n\u001b[1;32m     47\u001b[0m \u001b[0;34m\u001b[0m\u001b[0m\n",
      "\u001b[0;32m/anaconda3/envs/census/lib/python3.6/subprocess.py\u001b[0m in \u001b[0;36mcommunicate\u001b[0;34m(self, input, timeout)\u001b[0m\n\u001b[1;32m    841\u001b[0m \u001b[0;34m\u001b[0m\u001b[0m\n\u001b[1;32m    842\u001b[0m             \u001b[0;32mtry\u001b[0m\u001b[0;34m:\u001b[0m\u001b[0;34m\u001b[0m\u001b[0m\n\u001b[0;32m--> 843\u001b[0;31m                 \u001b[0mstdout\u001b[0m\u001b[0;34m,\u001b[0m \u001b[0mstderr\u001b[0m \u001b[0;34m=\u001b[0m \u001b[0mself\u001b[0m\u001b[0;34m.\u001b[0m\u001b[0m_communicate\u001b[0m\u001b[0;34m(\u001b[0m\u001b[0minput\u001b[0m\u001b[0;34m,\u001b[0m \u001b[0mendtime\u001b[0m\u001b[0;34m,\u001b[0m \u001b[0mtimeout\u001b[0m\u001b[0;34m)\u001b[0m\u001b[0;34m\u001b[0m\u001b[0m\n\u001b[0m\u001b[1;32m    844\u001b[0m             \u001b[0;32mfinally\u001b[0m\u001b[0;34m:\u001b[0m\u001b[0;34m\u001b[0m\u001b[0m\n\u001b[1;32m    845\u001b[0m                 \u001b[0mself\u001b[0m\u001b[0;34m.\u001b[0m\u001b[0m_communication_started\u001b[0m \u001b[0;34m=\u001b[0m \u001b[0;32mTrue\u001b[0m\u001b[0;34m\u001b[0m\u001b[0m\n",
      "\u001b[0;32m/anaconda3/envs/census/lib/python3.6/subprocess.py\u001b[0m in \u001b[0;36m_communicate\u001b[0;34m(self, input, endtime, orig_timeout)\u001b[0m\n\u001b[1;32m   1497\u001b[0m \u001b[0;34m\u001b[0m\u001b[0m\n\u001b[1;32m   1498\u001b[0m             \u001b[0;32mif\u001b[0m \u001b[0mself\u001b[0m\u001b[0;34m.\u001b[0m\u001b[0m_input\u001b[0m\u001b[0;34m:\u001b[0m\u001b[0;34m\u001b[0m\u001b[0m\n\u001b[0;32m-> 1499\u001b[0;31m                 \u001b[0minput_view\u001b[0m \u001b[0;34m=\u001b[0m \u001b[0mmemoryview\u001b[0m\u001b[0;34m(\u001b[0m\u001b[0mself\u001b[0m\u001b[0;34m.\u001b[0m\u001b[0m_input\u001b[0m\u001b[0;34m)\u001b[0m\u001b[0;34m\u001b[0m\u001b[0m\n\u001b[0m\u001b[1;32m   1500\u001b[0m \u001b[0;34m\u001b[0m\u001b[0m\n\u001b[1;32m   1501\u001b[0m             \u001b[0;32mwith\u001b[0m \u001b[0m_PopenSelector\u001b[0m\u001b[0;34m(\u001b[0m\u001b[0;34m)\u001b[0m \u001b[0;32mas\u001b[0m \u001b[0mselector\u001b[0m\u001b[0;34m:\u001b[0m\u001b[0;34m\u001b[0m\u001b[0m\n",
      "\u001b[0;31mTypeError\u001b[0m: memoryview: a bytes-like object is required, not 'str'"
     ]
    }
   ],
   "source": [
    "for abbr,name in states.items():\n",
    "    url = \"https://www.gasbuddy.com/home?search={0}&fuel=1\"\n",
    "    savename = join(basedir, \"{0}.html\".format(abbr))\n",
    "    if not isFile(savename):\n",
    "        print(\"YO\")\n",
    "        getWebData(base=url, suburl=None, dtime=5, useSafari=True, savename=savename)"
   ]
  },
  {
   "cell_type": "markdown",
   "metadata": {},
   "source": [
    "# Parse Data"
   ]
  },
  {
   "cell_type": "code",
   "execution_count": null,
   "metadata": {},
   "outputs": [],
   "source": [
    "from time import sleep\n",
    "for abbr,name in states.items():\n",
    "    filename = join(basedir, \"{0}.htm\".format(abbr)\n",
    "    bsdata   = getHTML(filename)\n",
    "    for h2 in bsdata.findAll(\"a\"):\n",
    "        attrs = h2.attrs\n",
    "        href  = attrs['href']\n",
    "        if not href.startswith(\"/\"):\n",
    "            continue\n",
    "        url = \"https://www.allgasstations.com/{0}\".format(href)\n",
    "        savename = \"/Users/tgadf/Downloads/ags/indiv/{0}.html\".format(href[1:-1].replace(\"/\", \"_\"))\n",
    "        if not isFile(savename):\n",
    "            getWebData(base=url, suburl=None, dtime=5, useSafari=False, savename=savename)\n",
    "            sleep(0.33)\n",
    "        \n",
    "    #print(bsdata)"
   ]
  }
 ],
 "metadata": {
  "kernelspec": {
   "display_name": "Python 3",
   "language": "python",
   "name": "python3"
  },
  "language_info": {
   "codemirror_mode": {
    "name": "ipython",
    "version": 3
   },
   "file_extension": ".py",
   "mimetype": "text/x-python",
   "name": "python",
   "nbconvert_exporter": "python",
   "pygments_lexer": "ipython3",
   "version": "3.6.5"
  }
 },
 "nbformat": 4,
 "nbformat_minor": 2
}
