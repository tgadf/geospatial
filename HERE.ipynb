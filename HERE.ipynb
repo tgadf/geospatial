{
 "cells": [
  {
   "cell_type": "markdown",
   "metadata": {},
   "source": [
    "# HERE POI Shapefile Decoding"
   ]
  },
  {
   "cell_type": "code",
   "execution_count": 1,
   "metadata": {},
   "outputs": [
    {
     "data": {
      "text/html": [
       "<style>.container { width:100% !important; }</style>"
      ],
      "text/plain": [
       "<IPython.core.display.HTML object>"
      ]
     },
     "metadata": {},
     "output_type": "display_data"
    },
    {
     "data": {
      "text/html": [
       "<style>div.output_area{max-height:10000px;overflow:scroll;}</style>"
      ],
      "text/plain": [
       "<IPython.core.display.HTML object>"
      ]
     },
     "metadata": {},
     "output_type": "display_data"
    },
    {
     "name": "stdout",
     "output_type": "stream",
     "text": [
      "Python: 3.6.5 |Anaconda custom (x86_64)| (default, Apr 26 2018, 08:42:37) \n",
      "[GCC 4.2.1 Compatible Clang 4.0.1 (tags/RELEASE_401/final)]\n",
      "Notebook Last Run Initiated: 2018-11-15 10:51:34.824158\n"
     ]
    }
   ],
   "source": [
    "## Basic stuff\n",
    "#%load_ext autoreload\n",
    "#%autoreload\n",
    "from IPython.core.display import display, HTML\n",
    "display(HTML(\"<style>.container { width:100% !important; }</style>\"))\n",
    "display(HTML(\"\"\"<style>div.output_area{max-height:10000px;overflow:scroll;}</style>\"\"\"))\n",
    "\n",
    "\n",
    "## Python Version\n",
    "import sys\n",
    "print(\"Python: {0}\".format(sys.version))\n",
    "\n",
    "\n",
    "## Install\n",
    "import shapefile\n",
    "import geohash\n",
    "from timeUtils import clock, elapsed\n",
    "from shapely.geometry.polygon import Polygon\n",
    "from shapely.geometry import Point\n",
    "from random import uniform\n",
    "from fsUtils import isFile\n",
    "from ioUtils import showSize, saveJoblib\n",
    "from geoUtils import *\n",
    "from geospatialUtils import saveGeoData, getBB\n",
    "import pickle\n",
    "from glob import glob\n",
    "from os.path import basename,splitext,join\n",
    "from collections import Counter\n",
    "\n",
    "import datetime as dt\n",
    "start = dt.datetime.now()\n",
    "print(\"Notebook Last Run Initiated: \"+str(start))"
   ]
  },
  {
   "cell_type": "code",
   "execution_count": 2,
   "metadata": {},
   "outputs": [],
   "source": [
    "# Global Params\n",
    "basedir=\"/Users/tgadf/Downloads/here\"\n",
    "prec=7\n",
    "mainkey=\"HEREPOI\""
   ]
  },
  {
   "cell_type": "markdown",
   "metadata": {},
   "source": [
    "# Load HERE POI Data"
   ]
  },
  {
   "cell_type": "code",
   "execution_count": null,
   "metadata": {},
   "outputs": [],
   "source": [
    "from pandas import DataFrame\n",
    "from os.path import join\n",
    "import pickle\n",
    "here_filename = join(basedir, \"HEREdata.p\")\n",
    "if not isFile(here_filename):\n",
    "    raise ValueError(\"HERE data {0} does not exist\".format(here_filename))\n",
    "print(\"Loading HERE POI data from {0}\".format(here_filename))\n",
    "here_data = pickle.load(open(here_filename, \"rb\"))\n",
    "here_data['lat'] = here_data['lat']/1e5\n",
    "here_data['lon'] = here_data['lon']/1e5\n",
    "use_here_data = here_data[here_data['iso_country_code'] == \"USA\"]"
   ]
  },
  {
   "cell_type": "code",
   "execution_count": null,
   "metadata": {},
   "outputs": [],
   "source": [
    "fastfood=[\"ConvenienceStore\", \"CoffeeShop\"]\n",
    "restaurant=[\"Restaurant\"]\n",
    "homefood=[\"GroceryStore\", \"Pharmacy\"]\n",
    "lodging=[\"Hotel\",\"SkiResort\"]\n",
    "commercial=[\"ClothingStore\",\"ConsumerElectronicsStore\",\"Bookstore\", \"DepartmentStore\", \"Shopping\", 'OfficeSupplyandServiceStore', 'HomeSpecialtyStore']\n",
    "commercial+=['SportingGoodStore','SpecialtyStore', \"HomeImprovementandHardwareStore\", \"Bank\", \"ATM\"]\n",
    "auto=['AutoDealerships', 'AutomobileClub', 'AutoServiceandMaintenance', 'RentalCarAgency', 'TruckDealership', 'MotorcycleDealership']\n",
    "fuel=['PetrolandGasolineStation']\n",
    "cycle=['BicycleParking', 'BicycleService', 'BicycleSharingLocation']\n",
    "municipal=[\"Library\", \"PostOffice\", \"PoliceStation\", \"CityHall\",\"CivicandCommunityCentre\", \"ConventionandExhibitionCentre\", \"CourtHouse\"]\n",
    "industrial=[\"CargoCentre\", \"BusinessFacility\"]\n",
    "building=[\"Embassy\", 'MilitaryBase']\n",
    "medical=[\"Hospital\"]\n",
    "attraction=[\"AmusementPark\", \"AnimalPark\", \"Museum\", \"TouristAttraction\", \"TouristInformation\", \"Winery\",\"PerformingArts\",\"HistoricalMonument\"]\n",
    "sport=[\"GolfCourse\"]\n",
    "entertainment=[\"Cinema\", \"Casino\"]\n",
    "transit=['CommuterRailStation', 'BusStation', 'FerryTerminal', 'TransportationService', 'TrainStation', 'Airport', 'TaxiStand', 'HighwayExit', \"WeighStation\"]\n",
    "recreation=[\"SportsComplex\", \"Trailhead\", \"Dock\", \"Marina\", \"Campground\",\"ParkandRecreationArea\"]\n",
    "school=[\"School\"]\n",
    "college=[\"HigherEducation\"]\n",
    "parking=['ParkandRide', 'ParkingGarageandHouse', 'ParkingLot', 'RestArea', 'TruckStopandPlaza', 'TruckParking', 'BorderCrossing', 'DeliveryEntrance']"
   ]
  },
  {
   "cell_type": "markdown",
   "metadata": {},
   "source": [
    "# Create Individual HERE Data"
   ]
  },
  {
   "cell_type": "code",
   "execution_count": null,
   "metadata": {},
   "outputs": [],
   "source": [
    "shapeData   = {}\n",
    "geoShapeMap = {}\n",
    "ngeos = {}\n",
    "shapeval = 'here'\n",
    "Nshapes = 0\n",
    "catIDs_filename = join(basedir, \"catIDs.p\")\n",
    "if not isFile(catIDs_filename):\n",
    "    raise ValueError(\"Categery IDs data {0} does not exist\".format(catIDs_filename))\n",
    "\n",
    "catIDs = pickle.load(open(catIDs_filename, \"rb\"))\n",
    "for row,rowdata in use_here_data.iterrows():\n",
    "    if Nshapes % 250000 == 0 and Nshapes > 0:\n",
    "        print(row,Nshapes)\n",
    "        break\n",
    "    Nshapes += 1\n",
    "    geo    = geohash.encode(latitude=rowdata['lat'], longitude=rowdata['lon'], precision=7)\n",
    "    irec   = row\n",
    "    catID  = str(int(rowdata['cat_id']))\n",
    "    geoid  = catID\n",
    "    name   = catIDs.get(catID)\n",
    "    #geoid  = rowdata['poi_id']\n",
    "    #htype  = rowdata['cat_id']\n",
    "    \n",
    "    fclass = name\n",
    "    if fclass in fastfood:\n",
    "        fclass = \"fastfood\"\n",
    "    elif fclass in restaurant:\n",
    "        fclass = \"restaurant\"\n",
    "    elif fclass in homefood:\n",
    "        fclass = \"grocery\"\n",
    "    elif fclass in lodging:\n",
    "        fclass = \"lodging\"\n",
    "    elif fclass in commercial:\n",
    "        fclass = \"commercial\"\n",
    "    elif fclass in auto:\n",
    "        fclass = \"auto\"\n",
    "    elif fclass in municipal:\n",
    "        fclass = \"municipal\"\n",
    "    elif fclass in industrial:\n",
    "        fclass = \"industrial\"\n",
    "    elif fclass in building:\n",
    "        fclass = \"building\"\n",
    "    elif fclass in medical:\n",
    "        fclass = \"medical\"\n",
    "    elif fclass in attraction:\n",
    "        fclass = \"attraction\"\n",
    "    elif fclass in sport:\n",
    "        fclass = \"sport\"\n",
    "    elif fclass in entertainment:\n",
    "        fclass = \"entertainment\"\n",
    "    elif fclass in recreation:\n",
    "        fclass = \"recreation\"\n",
    "    elif fclass in school:\n",
    "        fclass = \"school\"\n",
    "    elif fclass in college:\n",
    "        fclass = \"college\"\n",
    "    elif fclass in cycle:\n",
    "        fclass = \"cycling\"\n",
    "    elif fclass in transit:\n",
    "        fclass = \"transit\"\n",
    "    elif fclass in parking:\n",
    "        fclass = \"parking\"\n",
    "    elif fclass in fuel:\n",
    "        fclass = \"fuel\"\n",
    "    else:\n",
    "        raise ValueError(\"fClass {0} was not found!\".format(fclass))    \n",
    "    \n",
    "    catID = fclass\n",
    "    geoid = fclass\n",
    "    name  = fclass\n",
    "    \n",
    "    if name is None:\n",
    "        print(rowdata)\n",
    "        1/0\n",
    "    if shapeData.get(catID) is None:\n",
    "        shapeData[catID] = {}\n",
    "        shapeData[catID][geoid]   = {\"Name\": name}\n",
    "        geoShapeMap[catID] = {}\n",
    "        geoShapeMap[catID][geoid] = set()\n",
    "    geoShapeMap[catID][geoid].add(geo)\n",
    "    \n",
    "for catID,catData in shapeData.items():\n",
    "    shapeval = catID\n",
    "    ngeos = len(geoShapeMap[catID][catID])\n",
    "    print(\"Found {0} of type {1}\".format(ngeos,shapeval))\n",
    "    saveGeoData(shapeData[catID], geoShapeMap[catID], Nshapes, ngeos, join(basedir, \"{0}-{1}\".format(shapeval, prec)))"
   ]
  },
  {
   "cell_type": "markdown",
   "metadata": {},
   "source": [
    "# Combine HERE Data Into Standard Format"
   ]
  },
  {
   "cell_type": "code",
   "execution_count": 3,
   "metadata": {},
   "outputs": [
    {
     "name": "stdout",
     "output_type": "stream",
     "text": [
      "attraction\t3788\t---> 3788 <---\n",
      "auto\t27999\t---> 31746 <---\n",
      "building\t185\t---> 31927 <---\n",
      "college\t563\t---> 32472 <---\n",
      "commercial\t56562\t---> 86953 <---\n",
      "cycling\t20\t---> 86969 <---\n",
      "entertainment\t729\t---> 87538 <---\n",
      "fastfood\t13191\t---> 98203 <---\n",
      "fuel\t11419\t---> 101956 <---\n",
      "grocery\t11414\t---> 110012 <---\n",
      "industrial\t1379\t---> 111159 <---\n",
      "lodging\t7050\t---> 117697 <---\n",
      "medical\t883\t---> 118566 <---\n",
      "municipal\t6634\t---> 124510 <---\n",
      "parking\t3080\t---> 127028 <---\n",
      "recreation\t9517\t---> 136103 <---\n",
      "restaurant\t43907\t---> 168426 <---\n",
      "school\t11816\t---> 179779 <---\n",
      "sport\t1463\t---> 181179 <---\n",
      "transit\t5915\t---> 186738 <---\n",
      "Writing geomap-7-HEREPOI.p\n",
      "  --> This file is 2.0MB.\n",
      "  --> This file is 2.0MB.\n",
      "Writing georec-7-HEREPOI.p\n",
      "  --> This file is 238B.\n",
      "  --> This file is 238B.\n"
     ]
    }
   ],
   "source": [
    "vals    = glob(join(basedir, \"*-{0}-geos.p\".format(prec)))\n",
    "vals    = [splitext(basename(x))[0].split('-')[0] for x in vals]\n",
    "geomap  = {}\n",
    "records = {}\n",
    "for mtype in vals:\n",
    "    try:\n",
    "        recdata = pickle.load(open(join(basedir, \"{0}-{1}-data.p\".format(mtype, prec)), \"rb\"))\n",
    "        geodata = pickle.load(open(join(basedir, \"{0}-{1}-geos.p\".format(mtype, prec)), \"rb\"))\n",
    "    except:\n",
    "        continue\n",
    "    ngeos = 0\n",
    "    for geoid,geos in geodata.items():\n",
    "        ngeos += len(geos)\n",
    "        for geo in geos:\n",
    "            if geomap.get(geo) is None:\n",
    "                geomap[geo] = Counter()\n",
    "            geomap[geo][mtype] += 1\n",
    "\n",
    "    for geoid,rec in recdata.items():\n",
    "        records[geoid] = rec['Name']\n",
    "        break\n",
    "                \n",
    "    print(\"{0}\\t{1}\\t---> {2} <---\".format(mtype,ngeos,len(geomap)))\n",
    "\n",
    "\n",
    "for geo in geomap.keys():\n",
    "    geomap[geo] = dict(geomap[geo])\n",
    "    \n",
    "fname=\"geomap-{0}-{1}.p\".format(prec, mainkey)\n",
    "print(\"Writing {0}\".format(fname))\n",
    "saveJoblib(geomap, fname)\n",
    "showSize(fname)\n",
    "\n",
    "fname=\"georec-{0}-{1}.p\".format(prec, mainkey)\n",
    "print(\"Writing {0}\".format(fname))\n",
    "saveJoblib(records, fname)\n",
    "showSize(fname)"
   ]
  },
  {
   "cell_type": "markdown",
   "metadata": {},
   "source": [
    "# Folium Plots (if needed)"
   ]
  },
  {
   "cell_type": "code",
   "execution_count": null,
   "metadata": {},
   "outputs": [],
   "source": []
  },
  {
   "cell_type": "code",
   "execution_count": null,
   "metadata": {},
   "outputs": [],
   "source": [
    "import folium\n",
    "m = folium.Map(location=[40, -95], zoom_start=5)\n",
    "data = pickle.load(open(join(basedir, \"parking-{0}-geos.p\".format(prec)), \"rb\"))\n",
    "for name,geos in data.items():\n",
    "    for geo in geos:\n",
    "        points = getBB(geo, istuple=True)\n",
    "        folium.PolyLine(points, color='darkred', weight=2, opacity=1).add_to(m)    \n",
    "data = pickle.load(open(join(basedir, \"college-{0}-geos.p\".format(prec)), \"rb\"))\n",
    "for name,geos in data.items():\n",
    "    for geo in geos:\n",
    "        points = getBB(geo, istuple=True)\n",
    "        folium.PolyLine(points, color='darkblue', weight=2, opacity=1).add_to(m)    \n",
    "data = pickle.load(open(join(basedir, \"grocery-{0}-geos.p\".format(prec)), \"rb\"))\n",
    "for name,geos in data.items():\n",
    "    for geo in geos:\n",
    "        points = getBB(geo, istuple=True)\n",
    "        folium.PolyLine(points, color='darkgreen', weight=2, opacity=1).add_to(m)"
   ]
  },
  {
   "cell_type": "code",
   "execution_count": null,
   "metadata": {},
   "outputs": [],
   "source": [
    "map_filename = join(basedir, \"map.html\")\n",
    "m.save(map_filename)\n",
    "showSize(map_filename)"
   ]
  },
  {
   "cell_type": "code",
   "execution_count": null,
   "metadata": {},
   "outputs": [],
   "source": []
  }
 ],
 "metadata": {
  "kernelspec": {
   "display_name": "Python 3",
   "language": "python",
   "name": "python3"
  },
  "language_info": {
   "codemirror_mode": {
    "name": "ipython",
    "version": 3
   },
   "file_extension": ".py",
   "mimetype": "text/x-python",
   "name": "python",
   "nbconvert_exporter": "python",
   "pygments_lexer": "ipython3",
   "version": "3.6.5"
  }
 },
 "nbformat": 4,
 "nbformat_minor": 2
}
