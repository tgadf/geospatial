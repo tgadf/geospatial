{
 "cells": [
  {
   "cell_type": "markdown",
   "metadata": {},
   "source": [
    "# OSM Plotting Tool"
   ]
  },
  {
   "cell_type": "code",
   "execution_count": 2,
   "metadata": {},
   "outputs": [],
   "source": [
    "import folium\n",
    "import pickle\n",
    "from geospatialUtils import saveGeoData, getBB\n",
    "from os.path import join"
   ]
  },
  {
   "cell_type": "code",
   "execution_count": 3,
   "metadata": {},
   "outputs": [],
   "source": [
    "osmdir = \"/Users/tgadf/Downloads/osm\""
   ]
  },
  {
   "cell_type": "code",
   "execution_count": 11,
   "metadata": {},
   "outputs": [],
   "source": [
    "state   = \"tennessee\"\n",
    "osmtype = \"traffic\"\n",
    "subcat  = \"fuel\"\n",
    "prec    = 7"
   ]
  },
  {
   "cell_type": "code",
   "execution_count": 12,
   "metadata": {},
   "outputs": [],
   "source": [
    "osmdata = pickle.load(open(join(osmdir, \"{0}-{1}-{2}-{3}-geos.p\".format(state, osmtype, subcat, prec)), \"rb\"))\n",
    "catdata = osmdata.get(subcat)\n",
    "if catdata is None:\n",
    "    raise ValueError(\"Could not find {0} in OSM file\".format(subcat))"
   ]
  },
  {
   "cell_type": "code",
   "execution_count": 13,
   "metadata": {},
   "outputs": [],
   "source": [
    "m = folium.Map(location=[40, -95], zoom_start=5)\n",
    "for geo in catdata:\n",
    "    points = getBB(geo, istuple=True)\n",
    "    folium.PolyLine(points, color='darkred', weight=2, opacity=1).add_to(m)    "
   ]
  },
  {
   "cell_type": "code",
   "execution_count": 14,
   "metadata": {},
   "outputs": [],
   "source": [
    "m.save(\"OSM-map-{0}-{1}-{2}.html\".format(state, osmtype, subcat))"
   ]
  },
  {
   "cell_type": "code",
   "execution_count": null,
   "metadata": {},
   "outputs": [],
   "source": []
  }
 ],
 "metadata": {
  "kernelspec": {
   "display_name": "Python 3",
   "language": "python",
   "name": "python3"
  },
  "language_info": {
   "codemirror_mode": {
    "name": "ipython",
    "version": 3
   },
   "file_extension": ".py",
   "mimetype": "text/x-python",
   "name": "python",
   "nbconvert_exporter": "python",
   "pygments_lexer": "ipython3",
   "version": "3.6.5"
  }
 },
 "nbformat": 4,
 "nbformat_minor": 2
}
