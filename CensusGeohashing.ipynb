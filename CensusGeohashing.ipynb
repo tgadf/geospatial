{
 "cells": [
  {
   "cell_type": "markdown",
   "metadata": {},
   "source": [
    "# Geohashing Census Data"
   ]
  },
  {
   "cell_type": "code",
   "execution_count": 2,
   "metadata": {},
   "outputs": [
    {
     "data": {
      "text/html": [
       "<style>.container { width:100% !important; }</style>"
      ],
      "text/plain": [
       "<IPython.core.display.HTML object>"
      ]
     },
     "metadata": {},
     "output_type": "display_data"
    },
    {
     "data": {
      "text/html": [
       "<style>\n",
       "    div.output_area{\n",
       "        max-height:10000px;\n",
       "        overflow:scroll;\n",
       "    }\n",
       "</style>"
      ],
      "text/plain": [
       "<IPython.core.display.HTML object>"
      ]
     },
     "metadata": {},
     "output_type": "display_data"
    },
    {
     "name": "stdout",
     "output_type": "stream",
     "text": [
      "Python: 3.6.5 |Anaconda, Inc.| (default, Apr 26 2018, 08:42:37) \n",
      "[GCC 4.2.1 Compatible Clang 4.0.1 (tags/RELEASE_401/final)]\n",
      "Notebook Last Run Initiated: 2018-10-30 13:36:10.460552\n"
     ]
    }
   ],
   "source": [
    "## Basic stuff\n",
    "#%load_ext autoreload\n",
    "#%autoreload\n",
    "from IPython.core.display import display, HTML\n",
    "display(HTML(\"<style>.container { width:100% !important; }</style>\"))\n",
    "display(HTML(\"\"\"<style>\n",
    "    div.output_area{\n",
    "        max-height:10000px;\n",
    "        overflow:scroll;\n",
    "    }\n",
    "</style>\"\"\"))\n",
    "\n",
    "\n",
    "## Python Version\n",
    "import sys\n",
    "print(\"Python: {0}\".format(sys.version))\n",
    "\n",
    "\n",
    "## Install\n",
    "import shapefile\n",
    "import geohash\n",
    "from timeUtils import clock, elapsed\n",
    "from shapely.geometry.polygon import Polygon\n",
    "from shapely.geometry import Point\n",
    "from random import uniform\n",
    "from geoUtils import *\n",
    "from censusUtils import getCensusPoints, getCensusData, getCensusName\n",
    "basedir=\"/Users/tgadf/Downloads/Census\"\n",
    "\n",
    "import datetime as dt\n",
    "start = dt.datetime.now()\n",
    "print(\"Notebook Last Run Initiated: \"+str(start))"
   ]
  },
  {
   "cell_type": "markdown",
   "metadata": {},
   "source": [
    "# Central Census Processing"
   ]
  },
  {
   "cell_type": "code",
   "execution_count": 5,
   "metadata": {},
   "outputs": [],
   "source": [
    "def processShapefile(stdir, debug=False, keepRecords=True, keepGeos=True):\n",
    "    from os.path import join\n",
    "    from timeUtils import clock, elapsed\n",
    "\n",
    "    todo = {\"Records\": keepRecords, \"Geos\": keepGeos}\n",
    "\n",
    "    for stdir in stdirs:\n",
    "\n",
    "        geoShapeMap = {}\n",
    "        shapeData = {}\n",
    "\n",
    "        sf = shapefile.Reader(join(basedir, stdir, stdir))\n",
    "\n",
    "        ipop,ihouse,ihouseocc = getCensusPoints(sf, show=False)\n",
    "\n",
    "        startall,cmtall = clock(\"Geohashing all {0} shapes\".format(stdir))\n",
    "        ngeos = 0\n",
    "        irec  = 0\n",
    "        areas = []\n",
    "        for shapeRec in sf.iterShapeRecords():\n",
    "            irec += 1\n",
    "\n",
    "            ####################################################################\n",
    "            ## Record\n",
    "            ####################################################################\n",
    "            record = shapeRec.record\n",
    "            geoid  = record[0]\n",
    "            state  = geoid[:2]\n",
    "            name   = record[1]\n",
    "            memi   = record[2]\n",
    "            area   = record[-1]\n",
    "            pops   = record[ipop:ipop+19]\n",
    "            house  = record[ihouse:ihouse+15]\n",
    "            occpy  = record[ihouseocc:ihouseocc+9]\n",
    "\n",
    "            name,memi = getCensusName(stdir, name, memi)\n",
    "            recdata   = getCensusData(pops, house, occpy)\n",
    "\n",
    "            if geoid in ['0201601615']:\n",
    "                continue\n",
    "\n",
    "            if todo[\"Records\"] is True:\n",
    "                shapeData[geoid]   = {\"Name\": name}\n",
    "                shapeData[geoid].update(recdata)\n",
    "                if irec % 100 == 0:\n",
    "                    print(irec,'\\t',geoid,'\\t',name,'\\t',area)\n",
    "\n",
    "\n",
    "\n",
    "            if todo[\"Geos\"] is True:\n",
    "                ####################################################################\n",
    "                ## Geohashs (Shape)\n",
    "                ####################################################################\n",
    "                shape = shapeRec.shape\n",
    "                maxPrec = 7\n",
    "                if area > 10:\n",
    "                    maxPrec = 4\n",
    "                elif area > 2:\n",
    "                    maxPrec = 5\n",
    "                elif area > 0.5:\n",
    "                    maxPrec = 6\n",
    "                areas.append(area)\n",
    "\n",
    "                if debug:\n",
    "                    start, cmt = clock(\"Geohashing Shape with name {0}\".format(name))\n",
    "\n",
    "                geos  = getGeos(shape, prec=6, returnKeys=True)\n",
    "                #geos  = getShapeAndGeos(shape, maxPrec=maxPrec, debug=False)\n",
    "                if debug:\n",
    "                    elapsed(start, cmt)\n",
    "                geoShapeMap[geoid] = geos\n",
    "                print(irec,'\\t',geoid,'\\t',name,'\\t',area,'\\t--->',len(geos))\n",
    "                if len(geos) <= 2:\n",
    "                    print(\"---------------------> {0} has less than 2 geoids <---------------------\".format(geoid))\n",
    "                ngeos += len(geos)\n",
    "\n",
    "\n",
    "            if irec % 250 == 0 and False:\n",
    "                print(\"Found {0} records with {1} geos of type {2}\".format(len(shapeData), ngeos, stdir))\n",
    "                saveGeoData(shapeData, geoShapeMap, 0, ngeos, \"Census/{0}-{1}-tmp\".format(stdir, prec))\n",
    "\n",
    "\n",
    "        print(\"Found {0} records with {1} geos of type {2}\".format(len(shapeData), ngeos, stdir))\n",
    "        saveGeoData(shapeData, geoShapeMap, 0, ngeos, \"Census/{0}-{1}\".format(stdir, prec))\n",
    "\n",
    "\n",
    "        elapsed(startall,cmtall)\n"
   ]
  },
  {
   "cell_type": "code",
   "execution_count": 6,
   "metadata": {},
   "outputs": [
    {
     "ename": "NameError",
     "evalue": "name 'stdirs' is not defined",
     "output_type": "error",
     "traceback": [
      "\u001b[0;31m---------------------------------------------------------------------------\u001b[0m",
      "\u001b[0;31mNameError\u001b[0m                                 Traceback (most recent call last)",
      "\u001b[0;32m<ipython-input-6-abce2bbecc6b>\u001b[0m in \u001b[0;36m<module>\u001b[0;34m()\u001b[0m\n\u001b[0;32m----> 1\u001b[0;31m \u001b[0mprocessShapefile\u001b[0m\u001b[0;34m(\u001b[0m\u001b[0;34m\"ZCTA_2010Census_DP1\"\u001b[0m\u001b[0;34m)\u001b[0m\u001b[0;34m\u001b[0m\u001b[0m\n\u001b[0m",
      "\u001b[0;32m<ipython-input-5-dc44c3d23735>\u001b[0m in \u001b[0;36mprocessShapefile\u001b[0;34m(stdir, debug, keepRecords, keepGeos)\u001b[0m\n\u001b[1;32m      5\u001b[0m     \u001b[0mtodo\u001b[0m \u001b[0;34m=\u001b[0m \u001b[0;34m{\u001b[0m\u001b[0;34m\"Records\"\u001b[0m\u001b[0;34m:\u001b[0m \u001b[0mkeepRecords\u001b[0m\u001b[0;34m,\u001b[0m \u001b[0;34m\"Geos\"\u001b[0m\u001b[0;34m:\u001b[0m \u001b[0mkeepGeos\u001b[0m\u001b[0;34m}\u001b[0m\u001b[0;34m\u001b[0m\u001b[0m\n\u001b[1;32m      6\u001b[0m \u001b[0;34m\u001b[0m\u001b[0m\n\u001b[0;32m----> 7\u001b[0;31m     \u001b[0;32mfor\u001b[0m \u001b[0mstdir\u001b[0m \u001b[0;32min\u001b[0m \u001b[0mstdirs\u001b[0m\u001b[0;34m:\u001b[0m\u001b[0;34m\u001b[0m\u001b[0m\n\u001b[0m\u001b[1;32m      8\u001b[0m \u001b[0;34m\u001b[0m\u001b[0m\n\u001b[1;32m      9\u001b[0m         \u001b[0mgeoShapeMap\u001b[0m \u001b[0;34m=\u001b[0m \u001b[0;34m{\u001b[0m\u001b[0;34m}\u001b[0m\u001b[0;34m\u001b[0m\u001b[0m\n",
      "\u001b[0;31mNameError\u001b[0m: name 'stdirs' is not defined"
     ]
    }
   ],
   "source": [
    "processShapefile(\"ZCTA_2010Census_DP1\")"
   ]
  },
  {
   "cell_type": "code",
   "execution_count": null,
   "metadata": {},
   "outputs": [],
   "source": []
  }
 ],
 "metadata": {
  "kernelspec": {
   "display_name": "Python 3",
   "language": "python",
   "name": "python3"
  },
  "language_info": {
   "codemirror_mode": {
    "name": "ipython",
    "version": 3
   },
   "file_extension": ".py",
   "mimetype": "text/x-python",
   "name": "python",
   "nbconvert_exporter": "python",
   "pygments_lexer": "ipython3",
   "version": "3.6.5"
  }
 },
 "nbformat": 4,
 "nbformat_minor": 2
}
