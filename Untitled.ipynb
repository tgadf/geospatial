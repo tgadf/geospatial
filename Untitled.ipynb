{
 "cells": [
  {
   "cell_type": "code",
   "execution_count": 1,
   "metadata": {},
   "outputs": [],
   "source": [
    "vals=['alpinehut', 'archaeological', 'artscentre', 'artwork', 'atm', 'attraction', 'bakery', 'bank', 'bar', 'battlefield', 'beautyshop', 'bedandbreakfast', 'bench', 'beverages', 'bicyclerental', 'bicycleshop', 'biergarten', 'bookshop', 'butcher', 'cafe', 'camerasurveillance', 'campsite', 'caravansite', 'cardealership', 'carrental', 'carrepair', 'carsharing', 'carwash', 'castle', 'chalet', 'chemist', 'cinema', 'clothes', 'college', 'commstower', 'communitycentre', 'computershop', 'convenience', 'courthouse', 'dentist', 'departmentstore', 'doctors', 'dogpark', 'doityourself', 'drinkingwater', 'embassy', 'fastfood', 'firestation', 'florist', 'foodcourt', 'fort', 'fountain', 'furnitureshop', 'gardencentre', 'giftshop', 'golfcourse', 'graveyard', 'greengrocer', 'guesthouse', 'hairdresser', 'hospital', 'hostel', 'hotel', 'huntingstand', 'icerink', 'jeweller', 'kindergarten', 'kiosk', 'laundry', 'library', 'lighthouse', 'mall', 'memorial', 'mobilephoneshop', 'monument', 'motel', 'museum', 'newsagent', 'nightclub', 'nursinghome', 'observationtower', 'optician', 'outdoorshop', 'park', 'pharmacy', 'picnicsite', 'pitch', 'playground', 'police', 'postbox', 'postoffice', 'prison', 'pub', 'publicbuilding', 'recycling', 'recyclingclothes', 'recyclingglass', 'recyclingmetal', 'recyclingpaper', 'restaurant', 'ruins', 'school', 'shelter', 'shoeshop', 'sportscentre', 'sportsshop', 'stadium', 'stationery', 'supermarket', 'swimmingpool', 'telephone', 'theatre', 'themepark', 'toilet', 'touristinfo', 'tower', 'townhall', 'toyshop', 'track', 'travelagent', 'university', 'vendingany', 'vendingcigarette', 'vendingmachine', 'vendingparking', 'veterinary', 'videoshop', 'viewpoint', 'wastebasket', 'wastewaterplant', 'watermill', 'watertower', 'waterwell', 'waterworks', 'waysidecross', 'waysideshrine', 'windmill', 'zoo']"
   ]
  },
  {
   "cell_type": "code",
   "execution_count": 2,
   "metadata": {},
   "outputs": [
    {
     "data": {
      "text/plain": [
       "['alpinehut',\n",
       " 'archaeological',\n",
       " 'artscentre',\n",
       " 'artwork',\n",
       " 'atm',\n",
       " 'attraction',\n",
       " 'bakery',\n",
       " 'bank',\n",
       " 'bar',\n",
       " 'battlefield',\n",
       " 'beautyshop',\n",
       " 'bedandbreakfast',\n",
       " 'bench',\n",
       " 'beverages',\n",
       " 'bicyclerental',\n",
       " 'bicycleshop',\n",
       " 'biergarten',\n",
       " 'bookshop',\n",
       " 'butcher',\n",
       " 'cafe',\n",
       " 'camerasurveillance',\n",
       " 'campsite',\n",
       " 'caravansite',\n",
       " 'cardealership',\n",
       " 'carrental',\n",
       " 'carrepair',\n",
       " 'carsharing',\n",
       " 'carwash',\n",
       " 'castle',\n",
       " 'chalet',\n",
       " 'chemist',\n",
       " 'cinema',\n",
       " 'clothes',\n",
       " 'college',\n",
       " 'commstower',\n",
       " 'communitycentre',\n",
       " 'computershop',\n",
       " 'convenience',\n",
       " 'courthouse',\n",
       " 'dentist',\n",
       " 'departmentstore',\n",
       " 'doctors',\n",
       " 'dogpark',\n",
       " 'doityourself',\n",
       " 'drinkingwater',\n",
       " 'embassy',\n",
       " 'fastfood',\n",
       " 'firestation',\n",
       " 'florist',\n",
       " 'foodcourt',\n",
       " 'fort',\n",
       " 'fountain',\n",
       " 'furnitureshop',\n",
       " 'gardencentre',\n",
       " 'giftshop',\n",
       " 'golfcourse',\n",
       " 'graveyard',\n",
       " 'greengrocer',\n",
       " 'guesthouse',\n",
       " 'hairdresser',\n",
       " 'hospital',\n",
       " 'hostel',\n",
       " 'hotel',\n",
       " 'huntingstand',\n",
       " 'icerink',\n",
       " 'jeweller',\n",
       " 'kindergarten',\n",
       " 'kiosk',\n",
       " 'laundry',\n",
       " 'library',\n",
       " 'lighthouse',\n",
       " 'mall',\n",
       " 'memorial',\n",
       " 'mobilephoneshop',\n",
       " 'monument',\n",
       " 'motel',\n",
       " 'museum',\n",
       " 'newsagent',\n",
       " 'nightclub',\n",
       " 'nursinghome',\n",
       " 'observationtower',\n",
       " 'optician',\n",
       " 'outdoorshop',\n",
       " 'park',\n",
       " 'pharmacy',\n",
       " 'picnicsite',\n",
       " 'pitch',\n",
       " 'playground',\n",
       " 'police',\n",
       " 'postbox',\n",
       " 'postoffice',\n",
       " 'prison',\n",
       " 'pub',\n",
       " 'publicbuilding',\n",
       " 'recycling',\n",
       " 'recyclingclothes',\n",
       " 'recyclingglass',\n",
       " 'recyclingmetal',\n",
       " 'recyclingpaper',\n",
       " 'restaurant',\n",
       " 'ruins',\n",
       " 'school',\n",
       " 'shelter',\n",
       " 'shoeshop',\n",
       " 'sportscentre',\n",
       " 'sportsshop',\n",
       " 'stadium',\n",
       " 'stationery',\n",
       " 'supermarket',\n",
       " 'swimmingpool',\n",
       " 'telephone',\n",
       " 'theatre',\n",
       " 'themepark',\n",
       " 'toilet',\n",
       " 'touristinfo',\n",
       " 'tower',\n",
       " 'townhall',\n",
       " 'toyshop',\n",
       " 'track',\n",
       " 'travelagent',\n",
       " 'university',\n",
       " 'vendingany',\n",
       " 'vendingcigarette',\n",
       " 'vendingmachine',\n",
       " 'vendingparking',\n",
       " 'veterinary',\n",
       " 'videoshop',\n",
       " 'viewpoint',\n",
       " 'wastebasket',\n",
       " 'wastewaterplant',\n",
       " 'watermill',\n",
       " 'watertower',\n",
       " 'waterwell',\n",
       " 'waterworks',\n",
       " 'waysidecross',\n",
       " 'waysideshrine',\n",
       " 'windmill',\n",
       " 'zoo']"
      ]
     },
     "execution_count": 2,
     "metadata": {},
     "output_type": "execute_result"
    }
   ],
   "source": [
    "vals"
   ]
  },
  {
   "cell_type": "code",
   "execution_count": 31,
   "metadata": {},
   "outputs": [],
   "source": [
    "fastfood=[\"fastfood\", \"foodcourt\",\"convenience\"]\n",
    "slowfood=[\"restaurant\", \"cafe\"]\n",
    "homefood=[\"greengrocer\", \"pharmacy\", \"supermarket\", \"chemist\"]\n",
    "lodging=[\"hotel\", \"motel\", \"hostel\",\"chalet\",\"bedandbreakfast\",\"guesthouse\", \"caravansite\"]\n",
    "commercial=[\"bookshop\",\"butcher\",\"hairdresser\", \"furnitureshop\", \"doityourself\", \"gardencentre\", \"newsagent\", \"toyshop\",\"mall\",\"laundry\",\"mobilephoneshop\",\"bank\",\"atm\"]\n",
    "commercial+=[\"bicyclerental\",\"bicycleshop\",\"bakery\",\"beautyshop\",\"videoshop\",\"outdoorshop\", 'jeweller','kiosk', 'shoeshop','sportsshop', \"travelagent\"]\n",
    "commercial+=['florist','giftshop', \"departmentstore\", \"computershop\"]\n",
    "auto=['cardealership','carrental','carrepair','carsharing','carwash']\n",
    "municipal=[\"firestation\", \"prison\", \"library\", \"postoffice\", \"postbox\", \"police\", \"townhall\",\"communitycentre\",\"artscentre\", \"publicbuilding\", \"courthouse\"]\n",
    "industrial=[\"wastewaterplant\", \"windmill\",\"watermill\",\"waterworks\", \"recycling\", \"recyclingclothes\", \"recyclingglass\", \"recyclingmetal\", \"recyclingpaper\", \"commstower\", 'watertower','waterwell', \"tower\"]\n",
    "vending=['vendingany','vendingcigarette','vendingmachine','vendingparking']\n",
    "building=[\"embassy\"]\n",
    "medical=[\"hospital\", \"dentist\", \"doctors\", \"optician\", \"veterinary\",\"nursinghome\"]\n",
    "attraction=[\"attraction\",\"fountain\", \"museum\", \"touristinfo\", \"viewpoint\", \"zoo\",\"themepark\",\"monument\",\"picnicsite\",\"fort\",\"castle\",\"battlefield\",\"archaeological\",\"memorial\", \"lighthouse\", \"observationtower\", \"artwork\"]\n",
    "religious=[\"graveyard\",\"waysidecross\",\"waysideshrine\",\"ruins\"]\n",
    "sport=[\"golfcourse\", \"huntingstand\", \"icerink\", \"sportscentre\", \"track\", \"swimmingpool\"]\n",
    "entertainment=[\"bar\", \"pub\", \"nightclub\", \"theatre\", \"cinema\"]\n",
    "recreation=[\"stadium\", \"campsite\",\"biergarten\",\"dogpark\",\"park\", \"pitch\", \"playground\"]\n",
    "school=[\"kindergarten\",\"school\"]\n",
    "college=[\"college\",\"university\"]\n",
    "general=['alpinehut','bench','beverages','camerasurveillance','clothes','drinkingwater','shelter','stationery','telephone','toilet','wastebasket']"
   ]
  },
  {
   "cell_type": "code",
   "execution_count": 34,
   "metadata": {},
   "outputs": [],
   "source": [
    "extra = vals\n",
    "extra = [val for val in extra if val not in fastfood]\n",
    "extra = [val for val in extra if val not in slowfood]\n",
    "extra = [val for val in extra if val not in homefood]\n",
    "extra = [val for val in extra if val not in lodging]\n",
    "extra = [val for val in extra if val not in commercial]\n",
    "extra = [val for val in extra if val not in auto]\n",
    "extra = [val for val in extra if val not in municipal]\n",
    "extra = [val for val in extra if val not in industrial]\n",
    "extra = [val for val in extra if val not in vending]\n",
    "extra = [val for val in extra if val not in building]\n",
    "extra = [val for val in extra if val not in medical]\n",
    "extra = [val for val in extra if val not in attraction]\n",
    "extra = [val for val in extra if val not in religious]\n",
    "extra = [val for val in extra if val not in sport]\n",
    "extra = [val for val in extra if val not in entertainment]\n",
    "extra = [val for val in extra if val not in recreation]\n",
    "extra = [val for val in extra if val not in school]\n",
    "extra = [val for val in extra if val not in college]\n",
    "extra = [val for val in extra if val not in general]\n",
    "\n"
   ]
  },
  {
   "cell_type": "code",
   "execution_count": 35,
   "metadata": {},
   "outputs": [
    {
     "data": {
      "text/plain": [
       "[]"
      ]
     },
     "execution_count": 35,
     "metadata": {},
     "output_type": "execute_result"
    }
   ],
   "source": [
    "extra"
   ]
  },
  {
   "cell_type": "code",
   "execution_count": 6,
   "metadata": {},
   "outputs": [
    {
     "data": {
      "text/plain": [
       "138"
      ]
     },
     "execution_count": 6,
     "metadata": {},
     "output_type": "execute_result"
    }
   ],
   "source": [
    "len(vals)"
   ]
  },
  {
   "cell_type": "code",
   "execution_count": null,
   "metadata": {},
   "outputs": [],
   "source": []
  }
 ],
 "metadata": {
  "kernelspec": {
   "display_name": "Python 3",
   "language": "python",
   "name": "python3"
  },
  "language_info": {
   "codemirror_mode": {
    "name": "ipython",
    "version": 3
   },
   "file_extension": ".py",
   "mimetype": "text/x-python",
   "name": "python",
   "nbconvert_exporter": "python",
   "pygments_lexer": "ipython3",
   "version": "3.6.5"
  }
 },
 "nbformat": 4,
 "nbformat_minor": 2
}
