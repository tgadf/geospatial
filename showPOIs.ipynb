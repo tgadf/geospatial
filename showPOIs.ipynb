{
 "cells": [
  {
   "cell_type": "markdown",
   "metadata": {},
   "source": [
    "# Show POIs"
   ]
  },
  {
   "cell_type": "code",
   "execution_count": 11,
   "metadata": {},
   "outputs": [
    {
     "name": "stdout",
     "output_type": "stream",
     "text": [
      "The autoreload extension is already loaded. To reload it, use:\n",
      "  %reload_ext autoreload\n"
     ]
    },
    {
     "data": {
      "text/html": [
       "<style>.container { width:100% !important; }</style>"
      ],
      "text/plain": [
       "<IPython.core.display.HTML object>"
      ]
     },
     "metadata": {},
     "output_type": "display_data"
    },
    {
     "data": {
      "text/html": [
       "<style>div.output_area{max-height:10000px;overflow:scroll;}</style>"
      ],
      "text/plain": [
       "<IPython.core.display.HTML object>"
      ]
     },
     "metadata": {},
     "output_type": "display_data"
    },
    {
     "name": "stdout",
     "output_type": "stream",
     "text": [
      "Current Time is Wed Dec 12, 2018 21:53:32 for Last Run\n"
     ]
    }
   ],
   "source": [
    "%load_ext autoreload\n",
    "%autoreload\n",
    "\n",
    "#%autoreload\n",
    "from IPython.core.display import display, HTML\n",
    "display(HTML(\"<style>.container { width:100% !important; }</style>\"))\n",
    "display(HTML(\"\"\"<style>div.output_area{max-height:10000px;overflow:scroll;}</style>\"\"\"))\n",
    "\n",
    "from glob import glob\n",
    "from os.path import join\n",
    "from ioUtils import loadJoblib, saveJoblib\n",
    "from timeUtils import clock, elapsed\n",
    "from geoUtils import getDist\n",
    "from geospatialUtils import getBB\n",
    "\n",
    "import pandas as pd\n",
    "pd.set_option(\"display.max_rows\",1000)\n",
    "pd.set_option('precision', 3)\n",
    "\n",
    "import warnings\n",
    "warnings.filterwarnings('ignore')\n",
    "\n",
    "_, _ = clock(\"Last Run\")"
   ]
  },
  {
   "cell_type": "code",
   "execution_count": 2,
   "metadata": {},
   "outputs": [],
   "source": [
    "basedir = \"/Users/tgadf/Downloads/\"\n",
    "com = [36.02193, -84.23355]\n",
    "savename = join(basedir, \"oakridge.p\")\n",
    "results = {}\n",
    "maxdist = 2000"
   ]
  },
  {
   "cell_type": "code",
   "execution_count": 6,
   "metadata": {},
   "outputs": [
    {
     "name": "stdout",
     "output_type": "stream",
     "text": [
      "1\n",
      "95\n",
      "1\n",
      "25\n"
     ]
    }
   ],
   "source": [
    "heredatafiles = glob(join(basedir, \"here\", \"geomap*.p\"))\n",
    "print(len(heredatafiles))\n",
    "osmdatafiles = glob(join(basedir, \"osm\", \"geomap*.p\"))\n",
    "print(len(osmdatafiles))\n",
    "terminaldatafiles = glob(join(basedir, \"terminals\", \"geomap*.p\"))\n",
    "print(len(terminaldatafiles))\n",
    "roadsdatafiles = glob(join(basedir, \"stateshapes\", \"geomap*.p\"))\n",
    "print(len(roadsdatafiles))"
   ]
  },
  {
   "cell_type": "code",
   "execution_count": 9,
   "metadata": {},
   "outputs": [
    {
     "name": "stdout",
     "output_type": "stream",
     "text": [
      "Current Time is Wed Dec 12, 2018 21:39:20 for Looping over geospatial datasets\n",
      "/Users/tgadf/Downloads/here/geomap-7-HEREPOI.p\n",
      "  --> This file is 914B.\n",
      "Current Time is Wed Dec 12, 2018 21:40:24 for Done with Looping over geospatial datasets\n",
      "Process [Done with Looping over geospatial datasets] took 1.1 minutes.\n"
     ]
    }
   ],
   "source": [
    "start,cmt = clock(\"Looping over geospatial datasets\")\n",
    "\n",
    "results = {}\n",
    "\n",
    "# Loop over HERE\n",
    "#heredatafiles = []\n",
    "for fname in heredatafiles:\n",
    "    print(fname)\n",
    "    data = loadJoblib(fname)\n",
    "    for geo in data.keys():\n",
    "        if getDist(geo, com) < maxdist:\n",
    "            if results.get(geo) is None:\n",
    "                results[geo] = {}\n",
    "            for val in data[geo].keys():\n",
    "                results[geo][val] = 1\n",
    "                \n",
    "                \n",
    "# Loop over OSM\n",
    "osmdatafiles = []\n",
    "for fname in osmdatafiles:\n",
    "    print(fname)\n",
    "    data = loadJoblib(fname)\n",
    "    for geo in data.keys():\n",
    "        if getDist(geo, com) < maxdist:\n",
    "            if results.get(geo) is None:\n",
    "                results[geo] = {}\n",
    "            for val in data[geo].keys():\n",
    "                results[geo][val] = 1\n",
    "                \n",
    "    print(len(results),'\\t',fname)\n",
    "\n",
    "# Loop over Terminals\n",
    "terminaldatafiles = []\n",
    "for fname in terminaldatafiles:\n",
    "    if \"-Water-\" in fname:\n",
    "        continue\n",
    "    print(fname)\n",
    "    data = loadJoblib(fname)\n",
    "    for k,v in data.items():\n",
    "        if getDist(geo, com) < maxdist:\n",
    "            if results.get(geo) is None:\n",
    "                results[geo] = {}\n",
    "            for val in data[geo].keys():\n",
    "                results[geo][val] = 1\n",
    "                \n",
    "    print(len(results),'\\t',fname)\n",
    "                                 \n",
    "                                 \n",
    "# Loop over Roads\n",
    "roadsdatafiles = []\n",
    "for fname in roadsdatafiles:\n",
    "    print(fname)\n",
    "    data = loadJoblib(fname)\n",
    "    for k,v in data.items():\n",
    "        if getDist(geo, com) < maxdist:\n",
    "            if results.get(geo) is None:\n",
    "                results[geo] = {}\n",
    "            for val in data[geo].keys():\n",
    "                results[geo][val] = 1\n",
    "                \n",
    "    print(len(results),'\\t',fname)\n",
    "    \n",
    "    \n",
    "for geo in results.keys():\n",
    "    results[geo] = list(results[geo].keys())\n",
    "    \n",
    "saveJoblib(results, savename)\n",
    "\n",
    "elapsed(start, cmt)"
   ]
  },
  {
   "cell_type": "code",
   "execution_count": 13,
   "metadata": {},
   "outputs": [
    {
     "ename": "KeyboardInterrupt",
     "evalue": "",
     "output_type": "error",
     "traceback": [
      "\u001b[0;31m---------------------------------------------------------------------------\u001b[0m",
      "\u001b[0;31mKeyboardInterrupt\u001b[0m                         Traceback (most recent call last)",
      "\u001b[0;32m<ipython-input-13-17a47fda787b>\u001b[0m in \u001b[0;36m<module>\u001b[0;34m()\u001b[0m\n\u001b[1;32m      3\u001b[0m \u001b[0mresults\u001b[0m \u001b[0;34m=\u001b[0m \u001b[0mloadJoblib\u001b[0m\u001b[0;34m(\u001b[0m\u001b[0msavename\u001b[0m\u001b[0;34m)\u001b[0m\u001b[0;34m\u001b[0m\u001b[0m\n\u001b[1;32m      4\u001b[0m \u001b[0;32mfor\u001b[0m \u001b[0mgeo\u001b[0m\u001b[0;34m,\u001b[0m\u001b[0mpopup\u001b[0m \u001b[0;32min\u001b[0m \u001b[0mdata\u001b[0m\u001b[0;34m.\u001b[0m\u001b[0mitems\u001b[0m\u001b[0;34m(\u001b[0m\u001b[0;34m)\u001b[0m\u001b[0;34m:\u001b[0m\u001b[0;34m\u001b[0m\u001b[0m\n\u001b[0;32m----> 5\u001b[0;31m     \u001b[0mpoints\u001b[0m \u001b[0;34m=\u001b[0m \u001b[0mgetBB\u001b[0m\u001b[0;34m(\u001b[0m\u001b[0mgeo\u001b[0m\u001b[0;34m,\u001b[0m \u001b[0mistuple\u001b[0m\u001b[0;34m=\u001b[0m\u001b[0;32mTrue\u001b[0m\u001b[0;34m)\u001b[0m\u001b[0;34m\u001b[0m\u001b[0m\n\u001b[0m\u001b[1;32m      6\u001b[0m     \u001b[0mpop\u001b[0m \u001b[0;34m=\u001b[0m \u001b[0;34m\", \"\u001b[0m\u001b[0;34m.\u001b[0m\u001b[0mjoin\u001b[0m\u001b[0;34m(\u001b[0m\u001b[0mpopup\u001b[0m\u001b[0;34m)\u001b[0m\u001b[0;34m\u001b[0m\u001b[0m\n\u001b[1;32m      7\u001b[0m     \u001b[0mfolium\u001b[0m\u001b[0;34m.\u001b[0m\u001b[0mPolyLine\u001b[0m\u001b[0;34m(\u001b[0m\u001b[0mpoints\u001b[0m\u001b[0;34m,\u001b[0m \u001b[0mcolor\u001b[0m\u001b[0;34m=\u001b[0m\u001b[0;34m'darkred'\u001b[0m\u001b[0;34m,\u001b[0m \u001b[0mweight\u001b[0m\u001b[0;34m=\u001b[0m\u001b[0;36m2\u001b[0m\u001b[0;34m,\u001b[0m \u001b[0mopacity\u001b[0m\u001b[0;34m=\u001b[0m\u001b[0;36m1\u001b[0m\u001b[0;34m,\u001b[0m \u001b[0mpopup\u001b[0m\u001b[0;34m=\u001b[0m\u001b[0mpop\u001b[0m\u001b[0;34m)\u001b[0m\u001b[0;34m.\u001b[0m\u001b[0madd_to\u001b[0m\u001b[0;34m(\u001b[0m\u001b[0mm\u001b[0m\u001b[0;34m)\u001b[0m\u001b[0;34m\u001b[0m\u001b[0m\n",
      "\u001b[0;32m~/Documents/code/geospatial/geospatialUtils.py\u001b[0m in \u001b[0;36mgetBB\u001b[0;34m(gh, istuple)\u001b[0m\n\u001b[1;32m     26\u001b[0m     \u001b[0;32melse\u001b[0m\u001b[0;34m:\u001b[0m\u001b[0;34m\u001b[0m\u001b[0m\n\u001b[1;32m     27\u001b[0m         \u001b[0mbb\u001b[0m \u001b[0;34m=\u001b[0m \u001b[0;34m[\u001b[0m\u001b[0;34m]\u001b[0m\u001b[0;34m\u001b[0m\u001b[0m\n\u001b[0;32m---> 28\u001b[0;31m     \u001b[0mboundbox\u001b[0m \u001b[0;34m=\u001b[0m \u001b[0mbbox\u001b[0m\u001b[0;34m(\u001b[0m\u001b[0mgh\u001b[0m\u001b[0;34m)\u001b[0m\u001b[0;34m\u001b[0m\u001b[0m\n\u001b[0m\u001b[1;32m     29\u001b[0m     \u001b[0;32mfor\u001b[0m \u001b[0mroute\u001b[0m \u001b[0;32min\u001b[0m \u001b[0mroutes\u001b[0m\u001b[0;34m:\u001b[0m\u001b[0;34m\u001b[0m\u001b[0m\n\u001b[1;32m     30\u001b[0m         \u001b[0;32mif\u001b[0m \u001b[0mistuple\u001b[0m \u001b[0;32mis\u001b[0m \u001b[0;32mFalse\u001b[0m\u001b[0;34m:\u001b[0m\u001b[0;34m\u001b[0m\u001b[0m\n",
      "\u001b[0;32m/anaconda3/envs/census/lib/python3.6/site-packages/geohash-0.0.1-py3.6.egg/geohash.py\u001b[0m in \u001b[0;36mbbox\u001b[0;34m(hashcode)\u001b[0m\n\u001b[1;32m    218\u001b[0m                 \u001b[0mlatitude_delta\u001b[0m  \u001b[0;34m=\u001b[0m \u001b[0;36m180.0\u001b[0m\u001b[0;34m/\u001b[0m\u001b[0;34m(\u001b[0m\u001b[0;36m1\u001b[0m\u001b[0;34m<<\u001b[0m\u001b[0mlat_length\u001b[0m\u001b[0;34m)\u001b[0m\u001b[0;34m\u001b[0m\u001b[0m\n\u001b[1;32m    219\u001b[0m                 \u001b[0mlongitude_delta\u001b[0m \u001b[0;34m=\u001b[0m \u001b[0;36m360.0\u001b[0m\u001b[0;34m/\u001b[0m\u001b[0;34m(\u001b[0m\u001b[0;36m1\u001b[0m\u001b[0;34m<<\u001b[0m\u001b[0mlon_length\u001b[0m\u001b[0;34m)\u001b[0m\u001b[0;34m\u001b[0m\u001b[0m\n\u001b[0;32m--> 220\u001b[0;31m                 \u001b[0mlatitude\u001b[0m \u001b[0;34m=\u001b[0m \u001b[0m_int_to_float_hex\u001b[0m\u001b[0;34m(\u001b[0m\u001b[0mlat\u001b[0m\u001b[0;34m,\u001b[0m \u001b[0mlat_length\u001b[0m\u001b[0;34m)\u001b[0m \u001b[0;34m*\u001b[0m \u001b[0;36m90.0\u001b[0m\u001b[0;34m\u001b[0m\u001b[0m\n\u001b[0m\u001b[1;32m    221\u001b[0m                 \u001b[0mlongitude\u001b[0m \u001b[0;34m=\u001b[0m \u001b[0m_int_to_float_hex\u001b[0m\u001b[0;34m(\u001b[0m\u001b[0mlon\u001b[0m\u001b[0;34m,\u001b[0m \u001b[0mlon_length\u001b[0m\u001b[0;34m)\u001b[0m \u001b[0;34m*\u001b[0m \u001b[0;36m180.0\u001b[0m\u001b[0;34m\u001b[0m\u001b[0m\n\u001b[1;32m    222\u001b[0m                 \u001b[0;32mreturn\u001b[0m \u001b[0;34m{\u001b[0m\u001b[0;34m\"s\"\u001b[0m\u001b[0;34m:\u001b[0m\u001b[0mlatitude\u001b[0m\u001b[0;34m,\u001b[0m \u001b[0;34m\"w\"\u001b[0m\u001b[0;34m:\u001b[0m\u001b[0mlongitude\u001b[0m\u001b[0;34m,\u001b[0m \u001b[0;34m\"n\"\u001b[0m\u001b[0;34m:\u001b[0m\u001b[0mlatitude\u001b[0m\u001b[0;34m+\u001b[0m\u001b[0mlatitude_delta\u001b[0m\u001b[0;34m,\u001b[0m \u001b[0;34m\"e\"\u001b[0m\u001b[0;34m:\u001b[0m\u001b[0mlongitude\u001b[0m\u001b[0;34m+\u001b[0m\u001b[0mlongitude_delta\u001b[0m\u001b[0;34m}\u001b[0m\u001b[0;34m\u001b[0m\u001b[0m\n",
      "\u001b[0;32m/anaconda3/envs/census/lib/python3.6/site-packages/geohash-0.0.1-py3.6.egg/geohash.py\u001b[0m in \u001b[0;36m_int_to_float_hex\u001b[0;34m(i, l)\u001b[0m\n\u001b[1;32m     54\u001b[0m         \u001b[0;32mif\u001b[0m \u001b[0mi\u001b[0m \u001b[0;34m>=\u001b[0m \u001b[0mhalf\u001b[0m\u001b[0;34m:\u001b[0m\u001b[0;34m\u001b[0m\u001b[0m\n\u001b[1;32m     55\u001b[0m                 \u001b[0mi\u001b[0m \u001b[0;34m=\u001b[0m \u001b[0mi\u001b[0m\u001b[0;34m-\u001b[0m\u001b[0mhalf\u001b[0m\u001b[0;34m\u001b[0m\u001b[0m\n\u001b[0;32m---> 56\u001b[0;31m                 \u001b[0;32mreturn\u001b[0m \u001b[0mfloat\u001b[0m\u001b[0;34m.\u001b[0m\u001b[0mfromhex\u001b[0m\u001b[0;34m(\u001b[0m\u001b[0;34m(\u001b[0m\u001b[0;34m\"0x0.%0\"\u001b[0m\u001b[0;34m+\u001b[0m\u001b[0mstr\u001b[0m\u001b[0;34m(\u001b[0m\u001b[0ms\u001b[0m\u001b[0;34m)\u001b[0m\u001b[0;34m+\u001b[0m\u001b[0;34m\"xp1\"\u001b[0m\u001b[0;34m)\u001b[0m \u001b[0;34m%\u001b[0m \u001b[0;34m(\u001b[0m\u001b[0mi\u001b[0m\u001b[0;34m<<\u001b[0m\u001b[0;34m(\u001b[0m\u001b[0ms\u001b[0m\u001b[0;34m*\u001b[0m\u001b[0;36m4\u001b[0m\u001b[0;34m-\u001b[0m\u001b[0ml\u001b[0m\u001b[0;34m)\u001b[0m\u001b[0;34m,\u001b[0m\u001b[0;34m)\u001b[0m\u001b[0;34m)\u001b[0m\u001b[0;34m\u001b[0m\u001b[0m\n\u001b[0m\u001b[1;32m     57\u001b[0m         \u001b[0;32melse\u001b[0m\u001b[0;34m:\u001b[0m\u001b[0;34m\u001b[0m\u001b[0m\n\u001b[1;32m     58\u001b[0m                 \u001b[0mi\u001b[0m \u001b[0;34m=\u001b[0m \u001b[0mhalf\u001b[0m\u001b[0;34m-\u001b[0m\u001b[0mi\u001b[0m\u001b[0;34m\u001b[0m\u001b[0m\n",
      "\u001b[0;31mKeyboardInterrupt\u001b[0m: "
     ]
    }
   ],
   "source": [
    "import folium\n",
    "m = folium.Map(location=[40, -95], zoom_start=5)\n",
    "results = loadJoblib(savename)\n",
    "for geo,popup in data.items():\n",
    "    com = \n",
    "    points = getBB(geo, istuple=True)\n",
    "    pop = \", \".join(popup)\n",
    "    folium.PolyLine(points, color='darkred', weight=2, opacity=1, popup=pop).add_to(m)    \n",
    "    \n",
    "    folium.PolyLine(points, color='darkred', weight=2, opacity=1, popup=pop).add_to(m)    \n",
    "m"
   ]
  },
  {
   "cell_type": "code",
   "execution_count": null,
   "metadata": {},
   "outputs": [],
   "source": []
  }
 ],
 "metadata": {
  "kernelspec": {
   "display_name": "Python 3",
   "language": "python",
   "name": "python3"
  },
  "language_info": {
   "codemirror_mode": {
    "name": "ipython",
    "version": 3
   },
   "file_extension": ".py",
   "mimetype": "text/x-python",
   "name": "python",
   "nbconvert_exporter": "python",
   "pygments_lexer": "ipython3",
   "version": "3.6.5"
  }
 },
 "nbformat": 4,
 "nbformat_minor": 2
}
