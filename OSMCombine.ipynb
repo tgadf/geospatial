{
 "cells": [
  {
   "cell_type": "markdown",
   "metadata": {},
   "source": [
    "# OSM Geohash File Combination"
   ]
  },
  {
   "cell_type": "code",
   "execution_count": 4,
   "metadata": {},
   "outputs": [
    {
     "data": {
      "text/html": [
       "<style>.container { width:100% !important; }</style>"
      ],
      "text/plain": [
       "<IPython.core.display.HTML object>"
      ]
     },
     "metadata": {},
     "output_type": "display_data"
    },
    {
     "data": {
      "text/html": [
       "<style>div.output_area{max-height:10000px;overflow:scroll;}</style>"
      ],
      "text/plain": [
       "<IPython.core.display.HTML object>"
      ]
     },
     "metadata": {},
     "output_type": "display_data"
    },
    {
     "name": "stdout",
     "output_type": "stream",
     "text": [
      "Python: 3.6.5 |Anaconda custom (x86_64)| (default, Apr 26 2018, 08:42:37) \n",
      "[GCC 4.2.1 Compatible Clang 4.0.1 (tags/RELEASE_401/final)]\n",
      "Notebook Last Run Initiated: 2018-11-19 12:07:56.262115\n"
     ]
    }
   ],
   "source": [
    "## Basic stuff\n",
    "#%load_ext autoreload\n",
    "#%autoreload\n",
    "from IPython.core.display import display, HTML\n",
    "display(HTML(\"<style>.container { width:100% !important; }</style>\"))\n",
    "display(HTML(\"\"\"<style>div.output_area{max-height:10000px;overflow:scroll;}</style>\"\"\"))\n",
    "\n",
    "\n",
    "## Python Version\n",
    "import sys\n",
    "print(\"Python: {0}\".format(sys.version))\n",
    "\n",
    "\n",
    "## Install\n",
    "import shapefile\n",
    "import geohash\n",
    "from timeUtils import clock, elapsed\n",
    "from shapely.geometry.polygon import Polygon\n",
    "from shapely.geometry import Point\n",
    "from random import uniform\n",
    "from fsUtils import isFile\n",
    "from ioUtils import showSize, saveJoblib\n",
    "from geoUtils import *\n",
    "from geospatialUtils import saveGeoData, getBB, rmZipDir, getGeos\n",
    "import pickle\n",
    "from glob import glob\n",
    "from os.path import basename,splitext,join\n",
    "from collections import Counter\n",
    "from string import ascii_uppercase\n",
    "\n",
    "import datetime as dt\n",
    "start = dt.datetime.now()\n",
    "print(\"Notebook Last Run Initiated: \"+str(start))"
   ]
  },
  {
   "cell_type": "code",
   "execution_count": 5,
   "metadata": {},
   "outputs": [],
   "source": [
    "# Global Params\n",
    "basedir=\"/Users/tgadf/Downloads/osm\"\n",
    "prec=7\n",
    "mainkey=\"OSM\"\n",
    "letters=ascii_uppercase"
   ]
  },
  {
   "cell_type": "markdown",
   "metadata": {},
   "source": [
    "# Combine Geohash Data"
   ]
  },
  {
   "cell_type": "code",
   "execution_count": 6,
   "metadata": {},
   "outputs": [
    {
     "name": "stdout",
     "output_type": "stream",
     "text": [
      "Mtypes --> ['water']\n",
      "States --> {'west-virginia', 'north-carolina', 'oklahoma', 'california', 'washington', 'connecticut', 'arizona', 'vermont', 'louisiana', 'maryland', 'pennsylvania', 'delaware', 'florida', 'wyoming', 'arkansas', 'district-of-columbia', 'ohio', 'south-dakota', 'hawaii', 'new-mexico', 'new-york', 'michigan', 'iowa', 'nebraska', 'minnesota', 'new-hampshire', 'illinois', 'south-carolina', 'missouri', 'new-jersey', 'north-dakota', 'colorado', 'oregon', 'wisconsin', 'virginia', 'indiana', 'nevada', 'mississippi', 'maine', 'alabama', 'texas', 'puerto-rico', 'kentucky', 'rhode-island', 'georgia', 'utah', 'tennessee', 'idaho', 'kansas', 'massachusetts'}\n",
      "============== water ==============\n",
      "water               \twest-virginia       \t129980      \t129980      \t---> 110415 <---\n",
      "water               \tnorth-carolina      \t2276785     \t2406765     \t---> 2046886 <---\n",
      "water               \toklahoma            \t1017748     \t3424513     \t---> 2942264 <---\n",
      "water               \tcalifornia          \t3401305     \t6825818     \t---> 6143925 <---\n",
      "water               \twashington          \t943495      \t7769313     \t---> 7018492 <---\n",
      "water               \tconnecticut         \t93350       \t7862663     \t---> 7101095 <---\n",
      "water               \tarizona             \t1216348     \t9079011     \t---> 8272541 <---\n",
      "water               \tvermont             \t110340      \t9189351     \t---> 8371552 <---\n",
      "water               \tlouisiana           \t1146442     \t10335793    \t---> 9278970 <---\n",
      "water               \tmaryland            \t204976      \t10540769    \t---> 9447127 <---\n",
      "water               \tpennsylvania        \t521075      \t11061844    \t---> 9879061 <---\n",
      "water               \tdelaware            \t39421       \t11101265    \t---> 9905358 <---\n",
      "water               \tflorida             \t725543      \t11826808    \t---> 10559193 <---\n",
      "water               \twyoming             \t278391      \t12105199    \t---> 10816438 <---\n",
      "water               \tarkansas            \t246785      \t12351984    \t---> 11005244 <---\n",
      "water               \tdistrict-of-columbia\t2570        \t12354554    \t---> 11006227 <---\n",
      "water               \tohio                \t291570      \t12646124    \t---> 11214846 <---\n",
      "water               \tsouth-dakota        \t371461      \t13017585    \t---> 11563238 <---\n",
      "water               \thawaii              \t37388       \t13054973    \t---> 11598862 <---\n",
      "water               \tnew-mexico          \t698720      \t13753693    \t---> 12259440 <---\n",
      "water               \tnew-york            \t534660      \t14288353    \t---> 12678321 <---\n",
      "water               \tmichigan            \t1949090     \t16237443    \t---> 14451191 <---\n",
      "water               \tiowa                \t863906      \t17101349    \t---> 15212909 <---\n",
      "water               \tnebraska            \t280029      \t17381378    \t---> 15420590 <---\n",
      "water               \tminnesota           \t2722283     \t20103661    \t---> 17629479 <---\n",
      "water               \tnew-hampshire       \t208273      \t20311934    \t---> 17791632 <---\n",
      "water               \tillinois            \t834809      \t21146743    \t---> 18432735 <---\n",
      "water               \tsouth-carolina      \t1141345     \t22288088    \t---> 19314842 <---\n",
      "water               \tmissouri            \t406757      \t22694845    \t---> 19573929 <---\n",
      "water               \tnew-jersey          \t305523      \t23000368    \t---> 19808951 <---\n",
      "water               \tnorth-dakota        \t826465      \t23826833    \t---> 20511457 <---\n",
      "water               \tcolorado            \t1945729     \t25772562    \t---> 22326582 <---\n",
      "water               \toregon              \t1082193     \t26854755    \t---> 23285281 <---\n",
      "water               \twisconsin           \t1453784     \t28308539    \t---> 24160269 <---\n",
      "water               \tvirginia            \t912499      \t29221038    \t---> 24859875 <---\n",
      "water               \tindiana             \t274062      \t29495100    \t---> 25034807 <---\n",
      "water               \tnevada              \t484141      \t29979241    \t---> 25478143 <---\n",
      "water               \tmississippi         \t320935      \t30300176    \t---> 25712339 <---\n",
      "water               \tmaine               \t407233      \t30707409    \t---> 26050218 <---\n",
      "water               \talabama             \t273785      \t30981194    \t---> 26290882 <---\n",
      "water               \ttexas               \t1046467     \t32027661    \t---> 27150778 <---\n",
      "water               \tpuerto-rico         \t31450       \t32059111    \t---> 27179857 <---\n",
      "water               \tkentucky            \t189570      \t32248681    \t---> 27306128 <---\n",
      "water               \trhode-island        \t21697       \t32270378    \t---> 27324440 <---\n",
      "water               \tgeorgia             \t1431061     \t33701439    \t---> 28492096 <---\n",
      "water               \tutah                \t537664      \t34239103    \t---> 28948730 <---\n",
      "water               \ttennessee           \t551988      \t34791091    \t---> 29362934 <---\n",
      "water               \tidaho               \t240318      \t35031409    \t---> 29552224 <---\n",
      "water               \tkansas              \t238179      \t35269588    \t---> 29719275 <---\n",
      "water               \tmassachusetts       \t275317      \t35544905    \t---> 29929700 <---\n",
      "water               \t                    \t            \t35544905    \t---> 29929700 <---\n",
      "Writing geomap-7-waterOSM.p\n",
      "Writing georec-7-waterOSM.p\n"
     ]
    }
   ],
   "source": [
    "import pickle\n",
    "prec=7\n",
    "from glob import glob\n",
    "from os.path import basename,splitext, join\n",
    "from collections import Counter\n",
    "\n",
    "#mtypes   = set([splitext(basename(x))[0].split('-')[1] for x in vals])\n",
    "mtypes  = [\"traffic\", \"pofw\", \"pois\", \"transport\", \"buildings\"]\n",
    "mtypes  = [\"buildings\"]\n",
    "mtypes  = [\"pofw\"]\n",
    "mtypes  = [\"traffic\"]\n",
    "mtypes  = [\"transport\"]\n",
    "mtypes  = [\"pois\"]\n",
    "mtypes  = [\"traffic\", \"pofw\", \"pois\", \"transport\"]\n",
    "mtypes  = [\"water\"]\n",
    "\n",
    "print(\"Mtypes --> {0}\".format(mtypes))\n",
    "for mtype in mtypes:\n",
    "    if mtype in [\"pofw\",\"traffic\",\"transport\",\"pois\",\"water\"]:\n",
    "        vals    = glob(join(basedir, \"*-{0}-{1}-geos.p\".format(mtype, prec)))        \n",
    "        states  = set([splitext(basename(x))[0].split('-{0}'.format(mtype))[0] for x in vals])\n",
    "    else:\n",
    "        vals    = glob(join(basedir, \"*-{0}-geos.p\".format(prec)))\n",
    "        states  = set([splitext(basename(x))[0].split('-gis_osm')[0] for x in vals])\n",
    "    print(\"States --> {0}\".format(states))\n",
    "\n",
    "    print(\"============== {0} ==============\".format(mtype))\n",
    "    fnames = letters[:1]\n",
    "    for let in range(len(fnames)):\n",
    "        ngeosMtypes = 0\n",
    "        ngeos = 0\n",
    "        geomap  = {}\n",
    "        records = {}\n",
    "        cntr    = Counter()\n",
    "        for istate,state in enumerate(states):\n",
    "            if istate % len(fnames) != let:\n",
    "                continue\n",
    "            base = \"{0}*{1}*{2}\".format(state, mtype, prec)\n",
    "            recfiles = glob(join(basedir, \"{0}-data.p\".format(base)))\n",
    "            geofiles = glob(join(basedir, \"{0}-geos.p\".format(base)))\n",
    "\n",
    "            #print(\"  Found {0} and {1} rec/geo files for {2}\".format(len(recfiles), len(geofiles), mtype))\n",
    "            for i in range(len(geofiles)):\n",
    "                recfile = recfiles[i]\n",
    "                geofile = geofiles[i]\n",
    "\n",
    "                try:\n",
    "                    recdata = pickle.load(open(recfile, \"rb\"))\n",
    "                    geodata = pickle.load(open(geofile, \"rb\"))\n",
    "                    #print(\"Opened {0}\".format(recfile))\n",
    "                    #print(\"Opened {0}\".format(geofile))\n",
    "                except:\n",
    "                    print(\"Could not open {0}\".format(geofile))\n",
    "                    1/0\n",
    "                    continue\n",
    "\n",
    "                #print(geodata.keys())\n",
    "                #continue\n",
    "                ngeos = 0\n",
    "                for geoid,geos in geodata.items():\n",
    "                    ngeos += len(geos)\n",
    "                    ngeosMtypes += len(geos)\n",
    "                    for geo in geos:\n",
    "                        if geomap.get(geo) is None:\n",
    "                            geomap[geo] = Counter()\n",
    "                        #print(geo,mtype,geoid)\n",
    "                        #print(geoid)\n",
    "                        #print(recdata.keys())\n",
    "                        if recdata.get(geoid) is not None:\n",
    "                            try:\n",
    "                                #print(geoid)\n",
    "                                #print(recdata[geoid])\n",
    "                                #name = recdata[geoid]['Name']\n",
    "                                #print(name)\n",
    "                                name = geoid\n",
    "                            except:\n",
    "                                name = geoid\n",
    "                                #print(name)\n",
    "                        else:\n",
    "                            name = geoid\n",
    "                        cntr[name] += 1\n",
    "                        geomap[geo][name] += 1\n",
    "\n",
    "                for geoid,rec in recdata.items():\n",
    "                    records[geoid] = rec['Name']\n",
    "                    break\n",
    "\n",
    "            print(\"{0: <20}\\t{1: <20}\\t{2: <12}\\t{3: <12}\\t---> {4} <---\".format(mtype,state,ngeos,ngeosMtypes,len(geomap)))            \n",
    "        print(\"{0: <20}\\t{1: <20}\\t{2: <12}\\t{3: <12}\\t---> {4} <---\".format(mtype,\"\",\"\",ngeosMtypes,len(geomap)))\n",
    "\n",
    "        for k,v in cntr.most_common():\n",
    "            k = str(k)\n",
    "            if k.find(\" \") != -1 or k.find(\";\") != -1 or k.find(\"_\") != -1 or k.find(\",\") != -1 or k[0].isupper():\n",
    "                print(\"buildingConv[\\\"{0}\\\"] = \\\"{1}\\\"\".format(k, k))\n",
    "                found = True\n",
    "                    \n",
    "        for geo in geomap.keys():\n",
    "            geomap[geo] = dict(geomap[geo])\n",
    "        \n",
    "\n",
    "        fname=\"geomap-{0}-{1}OSM.p\".format(prec, mtype) #, fnames[let])\n",
    "        print(\"Writing {0}\".format(fname))\n",
    "        pickle.dump(geomap,  open(fname, \"wb\"))\n",
    "\n",
    "        fname=\"georec-{0}-{1}OSM.p\".format(prec, mtype) #, fnames[let])\n",
    "        print(\"Writing {0}\".format(fname))\n",
    "        pickle.dump(records,  open(fname, \"wb\"))"
   ]
  },
  {
   "cell_type": "code",
   "execution_count": null,
   "metadata": {},
   "outputs": [],
   "source": []
  }
 ],
 "metadata": {
  "kernelspec": {
   "display_name": "Python 3",
   "language": "python",
   "name": "python3"
  },
  "language_info": {
   "codemirror_mode": {
    "name": "ipython",
    "version": 3
   },
   "file_extension": ".py",
   "mimetype": "text/x-python",
   "name": "python",
   "nbconvert_exporter": "python",
   "pygments_lexer": "ipython3",
   "version": "3.6.5"
  }
 },
 "nbformat": 4,
 "nbformat_minor": 2
}
