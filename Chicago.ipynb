{
 "cells": [
  {
   "cell_type": "code",
   "execution_count": 6,
   "metadata": {},
   "outputs": [
    {
     "name": "stdout",
     "output_type": "stream",
     "text": [
      "The autoreload extension is already loaded. To reload it, use:\n",
      "  %reload_ext autoreload\n",
      "Notebook Last Run Initiated: 2018-10-15 11:22:01.110387\n"
     ]
    },
    {
     "data": {
      "text/html": [
       "<style>.container { width:100% !important; }</style>"
      ],
      "text/plain": [
       "<IPython.core.display.HTML object>"
      ]
     },
     "metadata": {},
     "output_type": "display_data"
    },
    {
     "data": {
      "text/html": [
       "<style>\n",
       "    div.output_area{\n",
       "        max-height:10000px;\n",
       "        overflow:scroll;\n",
       "    }\n",
       "</style>"
      ],
      "text/plain": [
       "<IPython.core.display.HTML object>"
      ]
     },
     "metadata": {},
     "output_type": "display_data"
    }
   ],
   "source": [
    "%load_ext autoreload\n",
    "%autoreload\n",
    "import datetime as dt\n",
    "start = dt.datetime.now()\n",
    "print(\"Notebook Last Run Initiated: \"+str(start))\n",
    "from IPython.core.display import display, HTML\n",
    "display(HTML(\"<style>.container { width:100% !important; }</style>\"))\n",
    "display(HTML(\"\"\"<style>\n",
    "    div.output_area{\n",
    "        max-height:10000px;\n",
    "        overflow:scroll;\n",
    "    }\n",
    "</style>\"\"\"))\n",
    "\n",
    "import shapefile\n",
    "from glob import glob\n",
    "import pygeohash as geohash\n",
    "from timeUtils import clock, elapsed\n",
    "from shapely.geometry.polygon import Polygon\n",
    "from shapely.geometry import Point\n",
    "from random import uniform\n",
    "from pandas import read_csv\n",
    "from geoUtils import *\n",
    "from censusUtils import getCensusPoints, getCensusData, getCensusName\n",
    "basedir=\"/Users/tgadf/Downloads/chicago\""
   ]
  },
  {
   "cell_type": "markdown",
   "metadata": {},
   "source": [
    "# Street Center Lines"
   ]
  },
  {
   "cell_type": "code",
   "execution_count": 5,
   "metadata": {},
   "outputs": [
    {
     "name": "stdout",
     "output_type": "stream",
     "text": [
      "Found 1 zip files\n",
      "Unzipping /Users/tgadf/Downloads/chicago/Street Center Lines.zip to /Users/tgadf/Downloads/chicago/Street Center Lines\n"
     ]
    }
   ],
   "source": [
    "zipfiles = glob(join(basedir, \"*.zip\"))\n",
    "print(\"Found {0} zip files\".format(len(zipfiles)))\n",
    "for zipname in zipfiles:\n",
    "    unZipFile(zipname, debug=True, test=False)"
   ]
  },
  {
   "cell_type": "code",
   "execution_count": 4,
   "metadata": {},
   "outputs": [
    {
     "name": "stdout",
     "output_type": "stream",
     "text": [
      "Found 1 shapefiles\n"
     ]
    }
   ],
   "source": [
    "shapefiles = glob(join(basedir, \"*\", \"*.shp\"))\n",
    "print(\"Found {0} shapefiles\".format(len(shapefiles)))"
   ]
  },
  {
   "cell_type": "code",
   "execution_count": 5,
   "metadata": {},
   "outputs": [],
   "source": [
    "for shapefile in shapefiles:\n",
    "    break\n",
    "    geoShapeMap = {}\n",
    "    shapeData = {}\n",
    "    \n",
    "    sf     = getShapeIter(shapefile, debug=True)\n",
    "    sfdata = getShapeFileInfo(sf, debug=True)\n",
    "    fields = sfdata.get('Fields')\n",
    "    numRec = sfdata.get('Num')\n",
    "    \n",
    "    for i,shapeRec in enumerate(sf.iterShapeRecords()):\n",
    "        rec = shapeRec.record\n",
    "        shp = shapeRec.shape\n",
    "        if i == 0:\n",
    "            for j,field in enumerate(fields[1:]):\n",
    "                print(field,'\\t',rec[j])\n",
    "            1/0"
   ]
  },
  {
   "cell_type": "markdown",
   "metadata": {},
   "source": [
    "# Traffic Counts"
   ]
  },
  {
   "cell_type": "code",
   "execution_count": 7,
   "metadata": {},
   "outputs": [],
   "source": [
    "filename = join(basedir, \"Average_Daily_Traffic_Counts.csv\")\n",
    "adtc = read_csv(filename)"
   ]
  },
  {
   "cell_type": "code",
   "execution_count": 9,
   "metadata": {},
   "outputs": [],
   "source": [
    "#adtc"
   ]
  },
  {
   "cell_type": "code",
   "execution_count": null,
   "metadata": {},
   "outputs": [],
   "source": []
  }
 ],
 "metadata": {
  "kernelspec": {
   "display_name": "Python 3",
   "language": "python",
   "name": "python3"
  },
  "language_info": {
   "codemirror_mode": {
    "name": "ipython",
    "version": 3
   },
   "file_extension": ".py",
   "mimetype": "text/x-python",
   "name": "python",
   "nbconvert_exporter": "python",
   "pygments_lexer": "ipython3",
   "version": "3.6.5"
  }
 },
 "nbformat": 4,
 "nbformat_minor": 2
}
