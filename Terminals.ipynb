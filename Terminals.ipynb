{
 "cells": [
  {
   "cell_type": "markdown",
   "metadata": {},
   "source": [
    "# Terminals Shapefiles"
   ]
  },
  {
   "cell_type": "code",
   "execution_count": 2,
   "metadata": {},
   "outputs": [
    {
     "name": "stdout",
     "output_type": "stream",
     "text": [
      "Notebook Last Run Initiated: 2018-12-12 18:40:32.976684\n"
     ]
    },
    {
     "data": {
      "text/html": [
       "<style>.container { width:100% !important; }</style>"
      ],
      "text/plain": [
       "<IPython.core.display.HTML object>"
      ]
     },
     "metadata": {},
     "output_type": "display_data"
    },
    {
     "data": {
      "text/html": [
       "<style>\n",
       "    div.output_area{\n",
       "        max-height:10000px;\n",
       "        overflow:scroll;\n",
       "    }\n",
       "</style>"
      ],
      "text/plain": [
       "<IPython.core.display.HTML object>"
      ]
     },
     "metadata": {},
     "output_type": "display_data"
    }
   ],
   "source": [
    "%load_ext autoreload\n",
    "%autoreload\n",
    "import datetime as dt\n",
    "start = dt.datetime.now()\n",
    "print(\"Notebook Last Run Initiated: \"+str(start))\n",
    "from IPython.core.display import display, HTML\n",
    "display(HTML(\"<style>.container { width:100% !important; }</style>\"))\n",
    "display(HTML(\"\"\"<style>\n",
    "    div.output_area{\n",
    "        max-height:10000px;\n",
    "        overflow:scroll;\n",
    "    }\n",
    "</style>\"\"\"))\n",
    "\n",
    "import shapefile\n",
    "import pygeohash as geohash\n",
    "from timeUtils import clock, elapsed\n",
    "from shapely.geometry.polygon import Polygon\n",
    "from shapely.geometry import Point\n",
    "from random import uniform\n",
    "from os.path import join\n",
    "import pickle\n",
    "from glob import glob\n",
    "import string\n",
    "from os.path import basename,splitext\n",
    "from collections import Counter\n",
    "from geoUtils import *"
   ]
  },
  {
   "cell_type": "markdown",
   "metadata": {},
   "source": [
    "# Global Parameters"
   ]
  },
  {
   "cell_type": "code",
   "execution_count": null,
   "metadata": {},
   "outputs": [],
   "source": [
    "# Global Params\n",
    "prec=7\n",
    "basedir=\"/Users/tgadf/Downloads/terminals\""
   ]
  },
  {
   "cell_type": "markdown",
   "metadata": {},
   "source": [
    "# Process Geo Data"
   ]
  },
  {
   "cell_type": "code",
   "execution_count": 3,
   "metadata": {},
   "outputs": [
    {
     "name": "stdout",
     "output_type": "stream",
     "text": [
      "Current Time is Wed Dec 12, 2018 18:40:34 for Analyzing Airports\t19460\n",
      "0\n"
     ]
    },
    {
     "ename": "NameError",
     "evalue": "name 'addLinearGeos' is not defined",
     "output_type": "error",
     "traceback": [
      "\u001b[0;31m---------------------------------------------------------------------------\u001b[0m",
      "\u001b[0;31mNameError\u001b[0m                                 Traceback (most recent call last)",
      "\u001b[0;32m<ipython-input-3-2e09b33cd70c>\u001b[0m in \u001b[0;36m<module>\u001b[0;34m()\u001b[0m\n\u001b[1;32m     53\u001b[0m     \u001b[0mshapeData\u001b[0m\u001b[0;34m[\u001b[0m\u001b[0mgeoid\u001b[0m\u001b[0;34m]\u001b[0m \u001b[0;34m=\u001b[0m \u001b[0;34m{\u001b[0m\u001b[0;34m\"Name\"\u001b[0m\u001b[0;34m:\u001b[0m \u001b[0mname\u001b[0m\u001b[0;34m,\u001b[0m \u001b[0;34m\"Record\"\u001b[0m\u001b[0;34m:\u001b[0m \u001b[0mirec\u001b[0m\u001b[0;34m,\u001b[0m \u001b[0;34m\"Type\"\u001b[0m\u001b[0;34m:\u001b[0m \u001b[0matype\u001b[0m\u001b[0;34m,\u001b[0m \u001b[0;34m\"Size\"\u001b[0m\u001b[0;34m:\u001b[0m \u001b[0msize\u001b[0m\u001b[0;34m}\u001b[0m\u001b[0;34m\u001b[0m\u001b[0m\n\u001b[1;32m     54\u001b[0m \u001b[0;34m\u001b[0m\u001b[0m\n\u001b[0;32m---> 55\u001b[0;31m     \u001b[0mgeos\u001b[0m \u001b[0;34m=\u001b[0m \u001b[0maddLinearGeos\u001b[0m\u001b[0;34m(\u001b[0m\u001b[0mirec\u001b[0m\u001b[0;34m,\u001b[0m \u001b[0mNshapes\u001b[0m\u001b[0;34m,\u001b[0m \u001b[0mshapeRec\u001b[0m\u001b[0;34m.\u001b[0m\u001b[0mshape\u001b[0m\u001b[0;34m,\u001b[0m \u001b[0mprec\u001b[0m\u001b[0;34m,\u001b[0m \u001b[0mdebug\u001b[0m\u001b[0;34m=\u001b[0m\u001b[0;32mFalse\u001b[0m\u001b[0;34m)\u001b[0m\u001b[0;34m\u001b[0m\u001b[0m\n\u001b[0m\u001b[1;32m     56\u001b[0m \u001b[0;34m\u001b[0m\u001b[0m\n\u001b[1;32m     57\u001b[0m     \u001b[0;32mif\u001b[0m \u001b[0msize\u001b[0m \u001b[0;32mis\u001b[0m \u001b[0;32mnot\u001b[0m \u001b[0;32mNone\u001b[0m\u001b[0;34m:\u001b[0m\u001b[0;34m\u001b[0m\u001b[0m\n",
      "\u001b[0;31mNameError\u001b[0m: name 'addLinearGeos' is not defined"
     ]
    }
   ],
   "source": [
    "from os.path import basename, dirname, join\n",
    "shapeval = \"Airports\"\n",
    "try:\n",
    "    sf = shapefile.Reader(join(basedir, shapeval, shapeval))\n",
    "except:\n",
    "    raise ValueError(\"No shapefile!\")\n",
    "fields      = sf.fields\n",
    "shapeData   = {}\n",
    "geoShapeMap = {}\n",
    "Nshapes   = len(sf.shapes())\n",
    "ngeos     = 0\n",
    "totalgeos = 0\n",
    "prec      = 8\n",
    "show      = False\n",
    "\n",
    "start,cmt = clock(\"Analyzing {0}\\t{1}\".format(shapeval, Nshapes))\n",
    "if show:\n",
    "    print(\"\\n\\nFields -> {0}\".format(fields))\n",
    "\n",
    "\n",
    "iname=None\n",
    "for i,val in enumerate(fields):\n",
    "    if val[0] == \"FullName\":\n",
    "        iname = i-1\n",
    "        break\n",
    "itype=None\n",
    "for i,val in enumerate(fields):\n",
    "    if val[0] == \"OwnerType\":\n",
    "        itype = i-1\n",
    "        break\n",
    "iacres=None\n",
    "for i,val in enumerate(fields):\n",
    "    if val[0] == \"Acres\":\n",
    "        iacres = i-1\n",
    "        break\n",
    "\n",
    "irec = -1\n",
    "from numpy import sqrt\n",
    "from haversine import haversine\n",
    "from random import uniform\n",
    "for shapeRec in sf.iterShapeRecords():\n",
    "    irec += 1\n",
    "    if irec % 1000 == 0:\n",
    "        print(irec)\n",
    "\n",
    "    ## Record\n",
    "    record = shapeRec.record\n",
    "    if show: raise ValueError(\"Stopping here: {0}\".format(record))\n",
    "    geoid = record[1]\n",
    "    name  = record[iname]\n",
    "    size  = record[iacres]\n",
    "    atype = record[itype]\n",
    "    shapeData[geoid] = {\"Name\": name, \"Record\": irec, \"Type\": atype, \"Size\": size}\n",
    "\n",
    "    geos = addLinearGeos(irec, Nshapes, shapeRec.shape, prec, debug=False)\n",
    "\n",
    "    if size is not None:\n",
    "        newgeos = set()\n",
    "        rad = 63.6167*sqrt(size)/2\n",
    "        long, lat = shapeRec.shape.points[0]\n",
    "        nmiss = 0\n",
    "        for i in range(10000):\n",
    "            dLg = uniform(-rad, rad) / 111000\n",
    "            dLa = uniform(-rad, rad) / 111000\n",
    "            pnt = (lat + dLa, long + dLg)\n",
    "            dist = haversine((lat, long), pnt)\n",
    "            if dist < rad/1000:\n",
    "                geo    = geohash.encode(latitude=pnt[0], longitude=pnt[1], precision=7)\n",
    "                if geo not in newgeos:\n",
    "                    newgeos.add(geo)\n",
    "                    nmiss = 0\n",
    "                else:\n",
    "                    nmiss += 1\n",
    "\n",
    "            if nmiss > 200:\n",
    "                break\n",
    "            \n",
    "        geoShapeMap[geoid] = newgeos\n",
    "        ngeos += len(newgeos)\n",
    "    else:\n",
    "        geoShapeMap[geoid] = geos\n",
    "        ngeos += len(geos)\n",
    "        \n",
    "print(\"Found {0} geos from {1}\".format(ngeos, shapeval))\n",
    "saveGeoData(shapeData, geoShapeMap, Nshapes, ngeos, \"terminals/{0}-{1}\".format(shapeval, 7))"
   ]
  },
  {
   "cell_type": "code",
   "execution_count": 3,
   "metadata": {},
   "outputs": [
    {
     "name": "stdout",
     "output_type": "stream",
     "text": [
      "Current Time is Wed Sep 19, 2018 20:27:47 for Analyzing Amtrak_Stations\t529\n",
      "Found 2575 geos from Amtrak_Stations\n",
      "\n",
      "\n",
      "There are 529 entries in the saved file.\n",
      "Saved shape data to terminals/Amtrak_Stations-7-data.p\n",
      "\n",
      "\n",
      "There are 2575 entries in the saved file.\n",
      "Saved shape data to terminals/Amtrak_Stations-7-geos.p\n",
      "\n",
      "\n"
     ]
    }
   ],
   "source": [
    "from os.path import basename, dirname\n",
    "shapeval = \"Amtrak_Stations\"\n",
    "try:\n",
    "    sf = shapefile.Reader(join(basedir, shapeval, shapeval))\n",
    "except:\n",
    "    raise ValueError(\"No shapefile!\")\n",
    "fields      = sf.fields\n",
    "shapeData   = {}\n",
    "geoShapeMap = {}\n",
    "Nshapes   = len(sf.shapes())\n",
    "ngeos     = 0\n",
    "totalgeos = 0\n",
    "prec      = 7\n",
    "show      = False\n",
    "\n",
    "start,cmt = clock(\"Analyzing {0}\\t{1}\".format(shapeval, Nshapes))\n",
    "if show:\n",
    "    print(\"\\n\\nFields -> {0}\".format(fields))\n",
    "\n",
    "\n",
    "irec = -1\n",
    "for shapeRec in sf.iterShapeRecords():\n",
    "    irec += 1\n",
    "\n",
    "    ## Record\n",
    "    record = shapeRec.record\n",
    "    if show: raise ValueError(\"Stopping here: {0}\".format(record))\n",
    "    geoid = record[1]\n",
    "    name  = record[2]\n",
    "    shapeData[geoid] = {\"Name\": name, \"Record\": irec}\n",
    "        \n",
    "    geos = addLinearGeos(irec, Nshapes, shapeRec.shape, prec, debug=False)\n",
    "\n",
    "    \n",
    "    if len(geos) > 0:\n",
    "        newgeos = set()\n",
    "        rad = 100\n",
    "        long, lat = shapeRec.shape.points[0]\n",
    "        nmiss = 0\n",
    "        for i in range(10000):\n",
    "            dLg = uniform(-rad, rad) / 111000\n",
    "            dLa = uniform(-rad, rad) / 111000\n",
    "            pnt = (lat + dLa, long + dLg)\n",
    "            dist = haversine((lat, long), pnt)\n",
    "            if dist < rad/1000:\n",
    "                geo    = geohash.encode(latitude=pnt[0], longitude=pnt[1], precision=7)\n",
    "                if geo not in newgeos:\n",
    "                    newgeos.add(geo)\n",
    "                    nmiss = 0\n",
    "                else:\n",
    "                    nmiss += 1\n",
    "\n",
    "            if nmiss > 200:\n",
    "                break\n",
    "\n",
    "        geoShapeMap[geoid] = newgeos\n",
    "        ngeos += len(newgeos)\n",
    "\n",
    "print(\"Found {0} geos from {1}\".format(ngeos, shapeval))\n",
    "saveGeoData(shapeData, geoShapeMap, Nshapes, ngeos, \"terminals/{0}-{1}\".format(shapeval, 7))"
   ]
  },
  {
   "cell_type": "markdown",
   "metadata": {},
   "source": [
    "# Combine"
   ]
  },
  {
   "cell_type": "code",
   "execution_count": 4,
   "metadata": {},
   "outputs": [
    {
     "name": "stdout",
     "output_type": "stream",
     "text": [
      "['/Users/tgadf/Downloads/terminals/Airports-7-geos.p', '/Users/tgadf/Downloads/terminals/Amtrak_Stations-7-geos.p']\n",
      "Airport\t507037\t---> 506462 <---\n",
      "Amtrak\t2575\t---> 509020 <---\n",
      "Found 5269546172 geos in total\n",
      "Writing /Users/tgadf/Downloads/terminals/geomap-7-Terminals.p\n",
      "Writing /Users/tgadf/Downloads/terminals/georec-7-Terminals.p\n"
     ]
    }
   ],
   "source": [
    "\n",
    "vals     = glob(join(basedir, \"*-{0}-geos.p\".format(prec)))\n",
    "basevals = set([splitext(basename(x))[0].split('-')[0] for x in vals])\n",
    "print(vals)\n",
    "geomap   = {}\n",
    "records  = {}\n",
    "ngeos    = 0\n",
    "totalgeos = 0\n",
    "for baseval in basevals:\n",
    "    try:\n",
    "        recname = \"{0}/{1}-{2}-data.p\".format(basedir, baseval, prec)\n",
    "        recdata = pickle.load(open(recname, \"rb\"))\n",
    "    except:\n",
    "        print(\"Could not open {0}\".format(recname))\n",
    "        continue\n",
    "    try:\n",
    "        geoname = \"{0}/{1}-{2}-geos.p\".format(basedir, baseval, prec)\n",
    "        geodata = pickle.load(open(geoname, \"rb\"))\n",
    "    except:\n",
    "        print(\"Could not open {0}\".format(geoname))\n",
    "        continue\n",
    "    ngeos = 0\n",
    "    \n",
    "    if baseval.startswith(\"Amtrak\"):\n",
    "        baseval=\"Amtrak\"\n",
    "    elif baseval.startswith(\"Airport\"):\n",
    "        baseval=\"Airport\"\n",
    "\n",
    "    for geoid,geos in geodata.items():\n",
    "        ngeos += len(geos)\n",
    "        totalgeos += ngeos\n",
    "        for geo in geos:\n",
    "            if geomap.get(geo) is None:\n",
    "                geomap[geo] = Counter()\n",
    "            geomap[geo][baseval] += 1\n",
    "\n",
    "    for geoid,rec in recdata.items():\n",
    "        records[geoid] = baseval #rec['Name']\n",
    "        #print(rec['Name'])\n",
    "        break\n",
    "\n",
    "    print(\"{0}\\t{1}\\t---> {2} <---\".format(baseval,ngeos,len(geomap)))\n",
    "\n",
    "\n",
    "for geo in geomap.keys():\n",
    "    geomap[geo] = dict(geomap[geo])\n",
    "            \n",
    "print(\"Found {0} geos in total\".format(totalgeos))\n",
    "fname=join(basedir, \"geomap-{0}-Terminals.p\".format(prec))\n",
    "print(\"Writing {0}\".format(fname))\n",
    "pickle.dump(geomap,  open(fname, \"wb\"))\n",
    "\n",
    "fname=join(basedir, \"georec-{0}-Terminals.p\".format(prec))\n",
    "print(\"Writing {0}\".format(fname))\n",
    "pickle.dump(records,  open(fname, \"wb\"))"
   ]
  },
  {
   "cell_type": "code",
   "execution_count": null,
   "metadata": {},
   "outputs": [],
   "source": []
  }
 ],
 "metadata": {
  "kernelspec": {
   "display_name": "Python 3",
   "language": "python",
   "name": "python3"
  },
  "language_info": {
   "codemirror_mode": {
    "name": "ipython",
    "version": 3
   },
   "file_extension": ".py",
   "mimetype": "text/x-python",
   "name": "python",
   "nbconvert_exporter": "python",
   "pygments_lexer": "ipython3",
   "version": "3.6.5"
  }
 },
 "nbformat": 4,
 "nbformat_minor": 2
}
